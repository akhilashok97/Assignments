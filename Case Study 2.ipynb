{
 "cells": [
  {
   "cell_type": "markdown",
   "id": "f8d003df",
   "metadata": {},
   "source": [
    "# Case Study on Measures of Central Tendency and Dispersion\n"
   ]
  },
  {
   "cell_type": "markdown",
   "id": "f7b54fe5",
   "metadata": {},
   "source": [
    "##  importing the libraries needed"
   ]
  },
  {
   "cell_type": "code",
   "execution_count": 5,
   "id": "c97c782c",
   "metadata": {},
   "outputs": [],
   "source": [
    "import pandas as pd\n",
    "import numpy as np\n",
    "import matplotlib.pyplot as plt\n",
    "import seaborn as sns\n",
    "import warnings \n",
    "warnings.filterwarnings('ignore')"
   ]
  },
  {
   "cell_type": "markdown",
   "id": "ce81530c",
   "metadata": {},
   "source": [
    "##  Reading the dataset to the python environment"
   ]
  },
  {
   "cell_type": "code",
   "execution_count": 6,
   "id": "0ab46fdf",
   "metadata": {},
   "outputs": [],
   "source": [
    "data=pd.read_csv('StudentsPerformance.csv')"
   ]
  },
  {
   "cell_type": "markdown",
   "id": "eabcea3a",
   "metadata": {},
   "source": [
    "### Displaying the contents of the dataset"
   ]
  },
  {
   "cell_type": "code",
   "execution_count": 7,
   "id": "22924427",
   "metadata": {},
   "outputs": [
    {
     "data": {
      "text/html": [
       "<div>\n",
       "<style scoped>\n",
       "    .dataframe tbody tr th:only-of-type {\n",
       "        vertical-align: middle;\n",
       "    }\n",
       "\n",
       "    .dataframe tbody tr th {\n",
       "        vertical-align: top;\n",
       "    }\n",
       "\n",
       "    .dataframe thead th {\n",
       "        text-align: right;\n",
       "    }\n",
       "</style>\n",
       "<table border=\"1\" class=\"dataframe\">\n",
       "  <thead>\n",
       "    <tr style=\"text-align: right;\">\n",
       "      <th></th>\n",
       "      <th>gender</th>\n",
       "      <th>race/ethnicity</th>\n",
       "      <th>parental level of education</th>\n",
       "      <th>lunch</th>\n",
       "      <th>test preparation course</th>\n",
       "      <th>math score</th>\n",
       "      <th>reading score</th>\n",
       "      <th>writing score</th>\n",
       "    </tr>\n",
       "  </thead>\n",
       "  <tbody>\n",
       "    <tr>\n",
       "      <th>0</th>\n",
       "      <td>female</td>\n",
       "      <td>group C</td>\n",
       "      <td>some high school</td>\n",
       "      <td>free/reduced</td>\n",
       "      <td>none</td>\n",
       "      <td>0</td>\n",
       "      <td>17</td>\n",
       "      <td>10</td>\n",
       "    </tr>\n",
       "    <tr>\n",
       "      <th>1</th>\n",
       "      <td>female</td>\n",
       "      <td>group B</td>\n",
       "      <td>high school</td>\n",
       "      <td>free/reduced</td>\n",
       "      <td>none</td>\n",
       "      <td>8</td>\n",
       "      <td>24</td>\n",
       "      <td>23</td>\n",
       "    </tr>\n",
       "    <tr>\n",
       "      <th>2</th>\n",
       "      <td>female</td>\n",
       "      <td>group B</td>\n",
       "      <td>some high school</td>\n",
       "      <td>free/reduced</td>\n",
       "      <td>none</td>\n",
       "      <td>18</td>\n",
       "      <td>32</td>\n",
       "      <td>28</td>\n",
       "    </tr>\n",
       "    <tr>\n",
       "      <th>3</th>\n",
       "      <td>female</td>\n",
       "      <td>group B</td>\n",
       "      <td>some college</td>\n",
       "      <td>standard</td>\n",
       "      <td>none</td>\n",
       "      <td>11</td>\n",
       "      <td>38</td>\n",
       "      <td>32</td>\n",
       "    </tr>\n",
       "    <tr>\n",
       "      <th>4</th>\n",
       "      <td>female</td>\n",
       "      <td>group C</td>\n",
       "      <td>some college</td>\n",
       "      <td>free/reduced</td>\n",
       "      <td>none</td>\n",
       "      <td>22</td>\n",
       "      <td>39</td>\n",
       "      <td>33</td>\n",
       "    </tr>\n",
       "    <tr>\n",
       "      <th>...</th>\n",
       "      <td>...</td>\n",
       "      <td>...</td>\n",
       "      <td>...</td>\n",
       "      <td>...</td>\n",
       "      <td>...</td>\n",
       "      <td>...</td>\n",
       "      <td>...</td>\n",
       "      <td>...</td>\n",
       "    </tr>\n",
       "    <tr>\n",
       "      <th>995</th>\n",
       "      <td>male</td>\n",
       "      <td>group E</td>\n",
       "      <td>some college</td>\n",
       "      <td>standard</td>\n",
       "      <td>completed</td>\n",
       "      <td>99</td>\n",
       "      <td>87</td>\n",
       "      <td>81</td>\n",
       "    </tr>\n",
       "    <tr>\n",
       "      <th>996</th>\n",
       "      <td>male</td>\n",
       "      <td>group A</td>\n",
       "      <td>some college</td>\n",
       "      <td>standard</td>\n",
       "      <td>completed</td>\n",
       "      <td>100</td>\n",
       "      <td>96</td>\n",
       "      <td>86</td>\n",
       "    </tr>\n",
       "    <tr>\n",
       "      <th>997</th>\n",
       "      <td>male</td>\n",
       "      <td>group D</td>\n",
       "      <td>some college</td>\n",
       "      <td>standard</td>\n",
       "      <td>completed</td>\n",
       "      <td>100</td>\n",
       "      <td>97</td>\n",
       "      <td>99</td>\n",
       "    </tr>\n",
       "    <tr>\n",
       "      <th>998</th>\n",
       "      <td>male</td>\n",
       "      <td>group E</td>\n",
       "      <td>associate's degree</td>\n",
       "      <td>free/reduced</td>\n",
       "      <td>completed</td>\n",
       "      <td>100</td>\n",
       "      <td>100</td>\n",
       "      <td>93</td>\n",
       "    </tr>\n",
       "    <tr>\n",
       "      <th>999</th>\n",
       "      <td>male</td>\n",
       "      <td>group E</td>\n",
       "      <td>bachelor's degree</td>\n",
       "      <td>standard</td>\n",
       "      <td>completed</td>\n",
       "      <td>100</td>\n",
       "      <td>100</td>\n",
       "      <td>100</td>\n",
       "    </tr>\n",
       "  </tbody>\n",
       "</table>\n",
       "<p>1000 rows × 8 columns</p>\n",
       "</div>"
      ],
      "text/plain": [
       "     gender race/ethnicity parental level of education         lunch  \\\n",
       "0    female        group C            some high school  free/reduced   \n",
       "1    female        group B                 high school  free/reduced   \n",
       "2    female        group B            some high school  free/reduced   \n",
       "3    female        group B                some college      standard   \n",
       "4    female        group C                some college  free/reduced   \n",
       "..      ...            ...                         ...           ...   \n",
       "995    male        group E                some college      standard   \n",
       "996    male        group A                some college      standard   \n",
       "997    male        group D                some college      standard   \n",
       "998    male        group E          associate's degree  free/reduced   \n",
       "999    male        group E           bachelor's degree      standard   \n",
       "\n",
       "    test preparation course  math score  reading score  writing score  \n",
       "0                      none           0             17             10  \n",
       "1                      none           8             24             23  \n",
       "2                      none          18             32             28  \n",
       "3                      none          11             38             32  \n",
       "4                      none          22             39             33  \n",
       "..                      ...         ...            ...            ...  \n",
       "995               completed          99             87             81  \n",
       "996               completed         100             96             86  \n",
       "997               completed         100             97             99  \n",
       "998               completed         100            100             93  \n",
       "999               completed         100            100            100  \n",
       "\n",
       "[1000 rows x 8 columns]"
      ]
     },
     "execution_count": 7,
     "metadata": {},
     "output_type": "execute_result"
    }
   ],
   "source": [
    "data"
   ]
  },
  {
   "cell_type": "markdown",
   "id": "d4fd86ef",
   "metadata": {},
   "source": [
    "## 1. Find out how many males and females participated in the test."
   ]
  },
  {
   "cell_type": "code",
   "execution_count": 8,
   "id": "19be3e22",
   "metadata": {},
   "outputs": [
    {
     "name": "stdout",
     "output_type": "stream",
     "text": [
      "The number of female students who participated in the test is 518\n",
      "The number of male students who participated in the test is 482\n"
     ]
    }
   ],
   "source": [
    "d=data['gender'].value_counts()\n",
    "print(\"The number of female students who participated in the test is\", d[0])\n",
    "print(\"The number of male students who participated in the test is\", d[1])\n",
    "##here we are using the value_counts() function to get the count of male and female students."
   ]
  },
  {
   "cell_type": "code",
   "execution_count": 9,
   "id": "c102b45b",
   "metadata": {},
   "outputs": [],
   "source": [
    "female=d[0]\n",
    "male=d[1]"
   ]
  },
  {
   "cell_type": "code",
   "execution_count": 147,
   "id": "847fb5f3",
   "metadata": {},
   "outputs": [
    {
     "data": {
      "text/plain": [
       "Text(0.5, 1.0, 'Gender distriution')"
      ]
     },
     "execution_count": 147,
     "metadata": {},
     "output_type": "execute_result"
    },
    {
     "data": {
      "image/png": "[encoded data removed]",
      "text/plain": [
       "<Figure size 576x576 with 1 Axes>"
      ]
     },
     "metadata": {
      "needs_background": "light"
     },
     "output_type": "display_data"
    }
   ],
   "source": [
    "plt.figure(figsize=(8,8))\n",
    "sns.countplot(data['gender'])\n",
    "plt.grid()\n",
    "plt.xlabel('gender',fontsize=12)\n",
    "plt.ylabel('count',fontsize=12)\n",
    "plt.title('Gender distriution',fontsize=15)"
   ]
  },
  {
   "cell_type": "markdown",
   "id": "935fa70c",
   "metadata": {},
   "source": [
    "**Here from the above plot we could understand that te female count is more than male count** "
   ]
  },
  {
   "cell_type": "code",
   "execution_count": 149,
   "id": "fa46b5f7",
   "metadata": {},
   "outputs": [
    {
     "data": {
      "text/plain": [
       "<function matplotlib.pyplot.show(close=None, block=None)>"
      ]
     },
     "execution_count": 149,
     "metadata": {},
     "output_type": "execute_result"
    },
    {
     "data": {
      "image/png": "[encoded data removed]",
      "text/plain": [
       "<Figure size 432x288 with 1 Axes>"
      ]
     },
     "metadata": {},
     "output_type": "display_data"
    }
   ],
   "source": [
    "x=[male,female]\n",
    "y=['male','female']\n",
    "plt.figure()\n",
    "plt.pie(x,labels=y,autopct='%2.1f%%')\n",
    "plt.title(\"Gender distribution\")\n",
    "plt.show"
   ]
  },
  {
   "cell_type": "markdown",
   "id": "d95458c3",
   "metadata": {},
   "source": [
    "**Here female students comprises of 51.8% while male students forms the rest 48.2%**"
   ]
  },
  {
   "cell_type": "markdown",
   "id": "1ce84ce1",
   "metadata": {},
   "source": [
    "## 2. What do you think about the students' parental level of education?"
   ]
  },
  {
   "cell_type": "code",
   "execution_count": 151,
   "id": "154f3659",
   "metadata": {},
   "outputs": [],
   "source": [
    "d=data['parental level of education'].value_counts()\n",
    "## A count of the different parental level of education is obtained"
   ]
  },
  {
   "cell_type": "code",
   "execution_count": 13,
   "id": "6c7173c0",
   "metadata": {},
   "outputs": [
    {
     "data": {
      "text/plain": [
       "some college          226\n",
       "associate's degree    222\n",
       "high school           196\n",
       "some high school      179\n",
       "bachelor's degree     118\n",
       "master's degree        59\n",
       "Name: parental level of education, dtype: int64"
      ]
     },
     "execution_count": 13,
     "metadata": {},
     "output_type": "execute_result"
    }
   ],
   "source": [
    "d"
   ]
  },
  {
   "cell_type": "markdown",
   "id": "ba406c5d",
   "metadata": {},
   "source": [
    "### A count plot of the different parental level of education is plotted"
   ]
  },
  {
   "cell_type": "code",
   "execution_count": 153,
   "id": "936fad83",
   "metadata": {
    "scrolled": true
   },
   "outputs": [
    {
     "data": {
      "text/plain": [
       "Text(0.5, 1.0, 'Distribution')"
      ]
     },
     "execution_count": 153,
     "metadata": {},
     "output_type": "execute_result"
    },
    {
     "data": {
      "image/png": "[encoded data removed]",
      "text/plain": [
       "<Figure size 576x360 with 1 Axes>"
      ]
     },
     "metadata": {
      "needs_background": "light"
     },
     "output_type": "display_data"
    }
   ],
   "source": [
    "plt.figure(figsize=(8,5))\n",
    "sns.countplot(data['parental level of education'])\n",
    "plt.grid()\n",
    "plt.xlabel('educayion level',fontsize=12)\n",
    "plt.ylabel('count',fontsize=12)\n",
    "plt.xticks(rotation=30)\n",
    "plt.title('Distribution',fontsize=15)"
   ]
  },
  {
   "cell_type": "markdown",
   "id": "21e967a8",
   "metadata": {},
   "source": [
    "**Most of the parents are having  college level education with a value count of 226, followed by associate degree with a count of 222. Masters degree is having the lowest value in the data** "
   ]
  },
  {
   "cell_type": "markdown",
   "id": "d06d5154",
   "metadata": {},
   "source": [
    "# 3. Who scores the most on average for math, reading and writing based on :"
   ]
  },
  {
   "cell_type": "markdown",
   "id": "ed9d86c2",
   "metadata": {},
   "source": [
    "## *Gender"
   ]
  },
  {
   "cell_type": "markdown",
   "id": "1ec27098",
   "metadata": {},
   "source": [
    "#### Male"
   ]
  },
  {
   "cell_type": "code",
   "execution_count": 72,
   "id": "4b1ab6ff",
   "metadata": {},
   "outputs": [],
   "source": [
    "data1=data[(data['gender']=='male')].mean()\n",
    "##The average for math ,reading and writing for male students is obtained here"
   ]
  },
  {
   "cell_type": "code",
   "execution_count": 73,
   "id": "e2485ea9",
   "metadata": {},
   "outputs": [
    {
     "data": {
      "text/plain": [
       "math score       68.821577\n",
       "reading score    65.545643\n",
       "writing score    63.446058\n",
       "dtype: float64"
      ]
     },
     "execution_count": 73,
     "metadata": {},
     "output_type": "execute_result"
    }
   ],
   "source": [
    "data1"
   ]
  },
  {
   "cell_type": "code",
   "execution_count": 99,
   "id": "c0faa56f",
   "metadata": {},
   "outputs": [
    {
     "data": {
      "text/plain": [
       "Text(0, 0.5, 'score value')"
      ]
     },
     "execution_count": 99,
     "metadata": {},
     "output_type": "execute_result"
    },
    {
     "data": {
      "image/png": "[encoded data removed]",
      "text/plain": [
       "<Figure size 576x576 with 1 Axes>"
      ]
     },
     "metadata": {
      "needs_background": "light"
     },
     "output_type": "display_data"
    }
   ],
   "source": [
    "plot=data1.plot(kind='bar',figsize=(8,8))\n",
    "plot.set_xlabel('score category')\n",
    "plot.set_ylabel('score value')\n",
    "##The obtained average is plotted in a bar graph\n"
   ]
  },
  {
   "cell_type": "markdown",
   "id": "52ccfce0",
   "metadata": {},
   "source": [
    "**For male students the average value of math score is highest while the writing score is the lowest**"
   ]
  },
  {
   "cell_type": "markdown",
   "id": "3c6c8335",
   "metadata": {},
   "source": [
    "### Female"
   ]
  },
  {
   "cell_type": "code",
   "execution_count": 86,
   "id": "f3b8d47f",
   "metadata": {},
   "outputs": [
    {
     "data": {
      "text/plain": [
       "math score       63.376448\n",
       "reading score    72.590734\n",
       "writing score    72.467181\n",
       "dtype: float64"
      ]
     },
     "execution_count": 86,
     "metadata": {},
     "output_type": "execute_result"
    }
   ],
   "source": [
    "data2=data[(data['gender']=='female')].mean()\n",
    "data2\n",
    "##The average values for female students is obtained "
   ]
  },
  {
   "cell_type": "code",
   "execution_count": 87,
   "id": "f8385840",
   "metadata": {},
   "outputs": [
    {
     "data": {
      "text/plain": [
       "Text(0, 0.5, 'score value')"
      ]
     },
     "execution_count": 87,
     "metadata": {},
     "output_type": "execute_result"
    },
    {
     "data": {
      "image/png": "[encoded data removed]",
      "text/plain": [
       "<Figure size 576x576 with 1 Axes>"
      ]
     },
     "metadata": {
      "needs_background": "light"
     },
     "output_type": "display_data"
    }
   ],
   "source": [
    "plot1=data2.plot(kind='bar',figsize=(8,8))\n",
    "plot1.set_xlabel('score category')\n",
    "plot1.set_ylabel('score value')\n",
    "##The obtained average values are plotted in a bar graph\n"
   ]
  },
  {
   "cell_type": "markdown",
   "id": "1365a2d2",
   "metadata": {},
   "source": [
    "**For female students the average value of reading score is highest while the math score is the lowest**"
   ]
  },
  {
   "cell_type": "markdown",
   "id": "00d4965e",
   "metadata": {},
   "source": [
    "## *Test preparation course"
   ]
  },
  {
   "cell_type": "code",
   "execution_count": 88,
   "id": "20963366",
   "metadata": {},
   "outputs": [],
   "source": [
    "tprep=data['test preparation course']\n",
    "#Test preparation course details are stored to tprep"
   ]
  },
  {
   "cell_type": "code",
   "execution_count": 154,
   "id": "28b2e6bb",
   "metadata": {},
   "outputs": [
    {
     "data": {
      "text/plain": [
       "none         642\n",
       "completed    358\n",
       "Name: test preparation course, dtype: int64"
      ]
     },
     "execution_count": 154,
     "metadata": {},
     "output_type": "execute_result"
    }
   ],
   "source": [
    "tprep.value_counts()\n",
    "##Inorder to ensure that it contains only two data , whether the course is \"completed\" or \"none\" ,here we are taking a count of the data in it "
   ]
  },
  {
   "cell_type": "code",
   "execution_count": 91,
   "id": "2c39f0ab",
   "metadata": {},
   "outputs": [
    {
     "data": {
      "text/plain": [
       "math score       63.789720\n",
       "reading score    66.417445\n",
       "writing score    64.457944\n",
       "dtype: float64"
      ]
     },
     "execution_count": 91,
     "metadata": {},
     "output_type": "execute_result"
    }
   ],
   "source": [
    "##It is clear from the above coutput that only two data are in it.\n",
    "##here we are the computing the average values for test completion course with none value\n",
    "data3=data[(data['test preparation course']=='none')].mean()\n",
    "data3"
   ]
  },
  {
   "cell_type": "code",
   "execution_count": 92,
   "id": "2552cae3",
   "metadata": {},
   "outputs": [
    {
     "data": {
      "text/plain": [
       "Text(0, 0.5, 'score value')"
      ]
     },
     "execution_count": 92,
     "metadata": {},
     "output_type": "execute_result"
    },
    {
     "data": {
      "image/png": "[encoded data removed]",
      "text/plain": [
       "<Figure size 576x576 with 1 Axes>"
      ]
     },
     "metadata": {
      "needs_background": "light"
     },
     "output_type": "display_data"
    }
   ],
   "source": [
    "plot2=data3.plot(kind='bar',figsize=(8,8))\n",
    "plot2.set_xlabel('score category')\n",
    "plot2.set_ylabel('score value')\n",
    "##The average values are plotted in a bar graph\n"
   ]
  },
  {
   "cell_type": "markdown",
   "id": "d379f5b1",
   "metadata": {},
   "source": [
    "**From the bar graph it is clear that the average value of reading score is the highest while that of math score is the lowest for students who have not completed the course**"
   ]
  },
  {
   "cell_type": "code",
   "execution_count": 93,
   "id": "b8e622d9",
   "metadata": {},
   "outputs": [
    {
     "data": {
      "text/plain": [
       "math score       69.966480\n",
       "reading score    74.175978\n",
       "writing score    74.684358\n",
       "dtype: float64"
      ]
     },
     "execution_count": 93,
     "metadata": {},
     "output_type": "execute_result"
    }
   ],
   "source": [
    "##here we are the computing the average values for test completion course completed students\n",
    "data4=data[(data['test preparation course']=='completed')].mean()\n",
    "data4"
   ]
  },
  {
   "cell_type": "code",
   "execution_count": 94,
   "id": "1a29afc8",
   "metadata": {},
   "outputs": [
    {
     "data": {
      "text/plain": [
       "Text(0, 0.5, 'score value')"
      ]
     },
     "execution_count": 94,
     "metadata": {},
     "output_type": "execute_result"
    },
    {
     "data": {
      "image/png": "[encoded data removed]",
      "text/plain": [
       "<Figure size 576x576 with 1 Axes>"
      ]
     },
     "metadata": {
      "needs_background": "light"
     },
     "output_type": "display_data"
    }
   ],
   "source": [
    "plot3=data4.plot(kind='bar',figsize=(8,8))\n",
    "plot3.set_xlabel('score category')\n",
    "plot3.set_ylabel('score value')\n"
   ]
  },
  {
   "cell_type": "markdown",
   "id": "591bebe0",
   "metadata": {},
   "source": [
    "**From the above bar graph it is clear that writing score is highest while math score is lowest for the course completed students**"
   ]
  },
  {
   "cell_type": "markdown",
   "id": "2a8e5505",
   "metadata": {},
   "source": [
    " ## 4. What do you think about the scoring variation for math, reading and writing based on"
   ]
  },
  {
   "cell_type": "markdown",
   "id": "d984fd8c",
   "metadata": {},
   "source": [
    "   ## Gender"
   ]
  },
  {
   "cell_type": "markdown",
   "id": "a6dcee35",
   "metadata": {},
   "source": [
    "### The minimum and maximum values for diffent scores based on gender is obtained here "
   ]
  },
  {
   "cell_type": "code",
   "execution_count": 155,
   "id": "15a982be",
   "metadata": {},
   "outputs": [
    {
     "data": {
      "text/html": [
       "<div>\n",
       "<style scoped>\n",
       "    .dataframe tbody tr th:only-of-type {\n",
       "        vertical-align: middle;\n",
       "    }\n",
       "\n",
       "    .dataframe tbody tr th {\n",
       "        vertical-align: top;\n",
       "    }\n",
       "\n",
       "    .dataframe thead th {\n",
       "        text-align: right;\n",
       "    }\n",
       "</style>\n",
       "<table border=\"1\" class=\"dataframe\">\n",
       "  <thead>\n",
       "    <tr style=\"text-align: right;\">\n",
       "      <th></th>\n",
       "      <th>race/ethnicity</th>\n",
       "      <th>parental level of education</th>\n",
       "      <th>lunch</th>\n",
       "      <th>test preparation course</th>\n",
       "      <th>math score</th>\n",
       "      <th>reading score</th>\n",
       "      <th>writing score</th>\n",
       "    </tr>\n",
       "    <tr>\n",
       "      <th>gender</th>\n",
       "      <th></th>\n",
       "      <th></th>\n",
       "      <th></th>\n",
       "      <th></th>\n",
       "      <th></th>\n",
       "      <th></th>\n",
       "      <th></th>\n",
       "    </tr>\n",
       "  </thead>\n",
       "  <tbody>\n",
       "    <tr>\n",
       "      <th>female</th>\n",
       "      <td>group A</td>\n",
       "      <td>associate's degree</td>\n",
       "      <td>free/reduced</td>\n",
       "      <td>completed</td>\n",
       "      <td>0</td>\n",
       "      <td>17</td>\n",
       "      <td>10</td>\n",
       "    </tr>\n",
       "    <tr>\n",
       "      <th>male</th>\n",
       "      <td>group A</td>\n",
       "      <td>associate's degree</td>\n",
       "      <td>free/reduced</td>\n",
       "      <td>completed</td>\n",
       "      <td>27</td>\n",
       "      <td>23</td>\n",
       "      <td>15</td>\n",
       "    </tr>\n",
       "  </tbody>\n",
       "</table>\n",
       "</div>"
      ],
      "text/plain": [
       "       race/ethnicity parental level of education         lunch  \\\n",
       "gender                                                            \n",
       "female        group A          associate's degree  free/reduced   \n",
       "male          group A          associate's degree  free/reduced   \n",
       "\n",
       "       test preparation course  math score  reading score  writing score  \n",
       "gender                                                                    \n",
       "female               completed           0             17             10  \n",
       "male                 completed          27             23             15  "
      ]
     },
     "execution_count": 155,
     "metadata": {},
     "output_type": "execute_result"
    }
   ],
   "source": [
    "data.groupby(['gender']).min()\n",
    "##Minimum values are obtained "
   ]
  },
  {
   "cell_type": "markdown",
   "id": "a682c5fc",
   "metadata": {},
   "source": [
    "**The minimum score is lower among female students when compared with male students**"
   ]
  },
  {
   "cell_type": "code",
   "execution_count": 156,
   "id": "a2ea4995",
   "metadata": {},
   "outputs": [
    {
     "data": {
      "text/html": [
       "<div>\n",
       "<style scoped>\n",
       "    .dataframe tbody tr th:only-of-type {\n",
       "        vertical-align: middle;\n",
       "    }\n",
       "\n",
       "    .dataframe tbody tr th {\n",
       "        vertical-align: top;\n",
       "    }\n",
       "\n",
       "    .dataframe thead th {\n",
       "        text-align: right;\n",
       "    }\n",
       "</style>\n",
       "<table border=\"1\" class=\"dataframe\">\n",
       "  <thead>\n",
       "    <tr style=\"text-align: right;\">\n",
       "      <th></th>\n",
       "      <th>race/ethnicity</th>\n",
       "      <th>parental level of education</th>\n",
       "      <th>lunch</th>\n",
       "      <th>test preparation course</th>\n",
       "      <th>math score</th>\n",
       "      <th>reading score</th>\n",
       "      <th>writing score</th>\n",
       "    </tr>\n",
       "    <tr>\n",
       "      <th>gender</th>\n",
       "      <th></th>\n",
       "      <th></th>\n",
       "      <th></th>\n",
       "      <th></th>\n",
       "      <th></th>\n",
       "      <th></th>\n",
       "      <th></th>\n",
       "    </tr>\n",
       "  </thead>\n",
       "  <tbody>\n",
       "    <tr>\n",
       "      <th>female</th>\n",
       "      <td>group E</td>\n",
       "      <td>some high school</td>\n",
       "      <td>standard</td>\n",
       "      <td>none</td>\n",
       "      <td>100</td>\n",
       "      <td>100</td>\n",
       "      <td>100</td>\n",
       "    </tr>\n",
       "    <tr>\n",
       "      <th>male</th>\n",
       "      <td>group E</td>\n",
       "      <td>some high school</td>\n",
       "      <td>standard</td>\n",
       "      <td>none</td>\n",
       "      <td>100</td>\n",
       "      <td>100</td>\n",
       "      <td>100</td>\n",
       "    </tr>\n",
       "  </tbody>\n",
       "</table>\n",
       "</div>"
      ],
      "text/plain": [
       "       race/ethnicity parental level of education     lunch  \\\n",
       "gender                                                        \n",
       "female        group E            some high school  standard   \n",
       "male          group E            some high school  standard   \n",
       "\n",
       "       test preparation course  math score  reading score  writing score  \n",
       "gender                                                                    \n",
       "female                    none         100            100            100  \n",
       "male                      none         100            100            100  "
      ]
     },
     "execution_count": 156,
     "metadata": {},
     "output_type": "execute_result"
    }
   ],
   "source": [
    "data.groupby(['gender']).max()\n",
    "##Maximum values are obtained"
   ]
  },
  {
   "cell_type": "markdown",
   "id": "58e7802b",
   "metadata": {},
   "source": [
    "### The score variations based on gender are plotted with box plots"
   ]
  },
  {
   "cell_type": "markdown",
   "id": "87cb224f",
   "metadata": {},
   "source": [
    "#### 1.math score variation"
   ]
  },
  {
   "cell_type": "code",
   "execution_count": 157,
   "id": "57b3d14d",
   "metadata": {
    "scrolled": true
   },
   "outputs": [
    {
     "data": {
      "text/plain": [
       "<AxesSubplot:title={'center':'male'}, xlabel='math score'>"
      ]
     },
     "execution_count": 157,
     "metadata": {},
     "output_type": "execute_result"
    },
    {
     "data": {
      "image/png": "[encoded data removed]",
      "text/plain": [
       "<Figure size 1008x576 with 2 Axes>"
      ]
     },
     "metadata": {
      "needs_background": "light"
     },
     "output_type": "display_data"
    }
   ],
   "source": [
    "plt.figure(figsize=(14,8))\n",
    "plt.suptitle('Math score variation')\n",
    "plt.subplot(2,2,1)\n",
    "sns.boxplot(data['math score'][data['gender']=='female'])\n",
    "plt.title('female')\n",
    "\n",
    "plt.subplot(2,2,2)\n",
    "plt.title('male')\n",
    "sns.boxplot(data['math score'][data['gender']=='male'])"
   ]
  },
  {
   "cell_type": "markdown",
   "id": "ab76e52c",
   "metadata": {},
   "source": [
    "**Math score variation are better among male students with more students having scores between 60 and 80 compared with female students** "
   ]
  },
  {
   "cell_type": "markdown",
   "id": "cb3ebbed",
   "metadata": {},
   "source": [
    "#### 2.Writing score variation"
   ]
  },
  {
   "cell_type": "code",
   "execution_count": 160,
   "id": "40e3a2f8",
   "metadata": {},
   "outputs": [
    {
     "data": {
      "text/plain": [
       "<AxesSubplot:title={'center':'male'}, xlabel='writing score'>"
      ]
     },
     "execution_count": 160,
     "metadata": {},
     "output_type": "execute_result"
    },
    {
     "data": {
      "image/png": "[encoded data removed]",
      "text/plain": [
       "<Figure size 1008x576 with 2 Axes>"
      ]
     },
     "metadata": {
      "needs_background": "light"
     },
     "output_type": "display_data"
    }
   ],
   "source": [
    "plt.figure(figsize=(14,8))\n",
    "plt.suptitle('Writing score variation')\n",
    "plt.subplot(2,2,1)\n",
    "sns.boxplot(data['writing score'][data['gender']=='female'])\n",
    "plt.title('female')\n",
    "\n",
    "plt.subplot(2,2,2)\n",
    "plt.title('male')\n",
    "sns.boxplot(data['writing score'][data['gender']=='male'])"
   ]
  },
  {
   "cell_type": "markdown",
   "id": "ee62f197",
   "metadata": {},
   "source": [
    "**Writing score variations are also better among male students with more students having scores in 60 , 70 range . but female students having high writing scores.** "
   ]
  },
  {
   "cell_type": "markdown",
   "id": "07eb6a08",
   "metadata": {},
   "source": [
    "#### 3.Reading score variation "
   ]
  },
  {
   "cell_type": "code",
   "execution_count": 159,
   "id": "3e07e5c6",
   "metadata": {},
   "outputs": [
    {
     "data": {
      "text/plain": [
       "<AxesSubplot:title={'center':'male'}, xlabel='reading score'>"
      ]
     },
     "execution_count": 159,
     "metadata": {},
     "output_type": "execute_result"
    },
    {
     "data": {
      "image/png": "[encoded data removed]",
      "text/plain": [
       "<Figure size 1008x576 with 2 Axes>"
      ]
     },
     "metadata": {
      "needs_background": "light"
     },
     "output_type": "display_data"
    }
   ],
   "source": [
    "plt.figure(figsize=(14,8))\n",
    "plt.suptitle('Reading score variation')\n",
    "plt.subplot(2,2,1)\n",
    "sns.boxplot(data['reading score'][data['gender']=='female'])\n",
    "plt.title('female')\n",
    "\n",
    "plt.subplot(2,2,2)\n",
    "plt.title('male')\n",
    "sns.boxplot(data['reading score'][data['gender']=='male'])"
   ]
  },
  {
   "cell_type": "markdown",
   "id": "0937608f",
   "metadata": {},
   "source": [
    "**Reading scores are higher among female students but more no of male students have scores in 60,70 range.**"
   ]
  },
  {
   "cell_type": "markdown",
   "id": "a9d91511",
   "metadata": {},
   "source": [
    "## Test preparation course"
   ]
  },
  {
   "cell_type": "markdown",
   "id": "022aff97",
   "metadata": {},
   "source": [
    "### The minimum and maximum values for different scores based on test preparation course is obtained here "
   ]
  },
  {
   "cell_type": "code",
   "execution_count": 122,
   "id": "9fa1b1c8",
   "metadata": {},
   "outputs": [
    {
     "data": {
      "text/html": [
       "<div>\n",
       "<style scoped>\n",
       "    .dataframe tbody tr th:only-of-type {\n",
       "        vertical-align: middle;\n",
       "    }\n",
       "\n",
       "    .dataframe tbody tr th {\n",
       "        vertical-align: top;\n",
       "    }\n",
       "\n",
       "    .dataframe thead th {\n",
       "        text-align: right;\n",
       "    }\n",
       "</style>\n",
       "<table border=\"1\" class=\"dataframe\">\n",
       "  <thead>\n",
       "    <tr style=\"text-align: right;\">\n",
       "      <th></th>\n",
       "      <th>gender</th>\n",
       "      <th>race/ethnicity</th>\n",
       "      <th>parental level of education</th>\n",
       "      <th>lunch</th>\n",
       "      <th>math score</th>\n",
       "      <th>reading score</th>\n",
       "      <th>writing score</th>\n",
       "    </tr>\n",
       "    <tr>\n",
       "      <th>test preparation course</th>\n",
       "      <th></th>\n",
       "      <th></th>\n",
       "      <th></th>\n",
       "      <th></th>\n",
       "      <th></th>\n",
       "      <th></th>\n",
       "      <th></th>\n",
       "    </tr>\n",
       "  </thead>\n",
       "  <tbody>\n",
       "    <tr>\n",
       "      <th>completed</th>\n",
       "      <td>female</td>\n",
       "      <td>group A</td>\n",
       "      <td>associate's degree</td>\n",
       "      <td>free/reduced</td>\n",
       "      <td>23</td>\n",
       "      <td>37</td>\n",
       "      <td>36</td>\n",
       "    </tr>\n",
       "    <tr>\n",
       "      <th>none</th>\n",
       "      <td>female</td>\n",
       "      <td>group A</td>\n",
       "      <td>associate's degree</td>\n",
       "      <td>free/reduced</td>\n",
       "      <td>0</td>\n",
       "      <td>17</td>\n",
       "      <td>10</td>\n",
       "    </tr>\n",
       "  </tbody>\n",
       "</table>\n",
       "</div>"
      ],
      "text/plain": [
       "                         gender race/ethnicity parental level of education  \\\n",
       "test preparation course                                                      \n",
       "completed                female        group A          associate's degree   \n",
       "none                     female        group A          associate's degree   \n",
       "\n",
       "                                lunch  math score  reading score  \\\n",
       "test preparation course                                            \n",
       "completed                free/reduced          23             37   \n",
       "none                     free/reduced           0             17   \n",
       "\n",
       "                         writing score  \n",
       "test preparation course                 \n",
       "completed                           36  \n",
       "none                                10  "
      ]
     },
     "execution_count": 122,
     "metadata": {},
     "output_type": "execute_result"
    }
   ],
   "source": [
    "data.groupby(['test preparation course']).min()\n",
    "##Minimum values are obtained"
   ]
  },
  {
   "cell_type": "markdown",
   "id": "7ae3709f",
   "metadata": {},
   "source": [
    "**The minimum scores of students who completed the preparation course is higher, from which we could understand that this course plays an important role with the scores**"
   ]
  },
  {
   "cell_type": "code",
   "execution_count": 123,
   "id": "93ee8325",
   "metadata": {},
   "outputs": [
    {
     "data": {
      "text/html": [
       "<div>\n",
       "<style scoped>\n",
       "    .dataframe tbody tr th:only-of-type {\n",
       "        vertical-align: middle;\n",
       "    }\n",
       "\n",
       "    .dataframe tbody tr th {\n",
       "        vertical-align: top;\n",
       "    }\n",
       "\n",
       "    .dataframe thead th {\n",
       "        text-align: right;\n",
       "    }\n",
       "</style>\n",
       "<table border=\"1\" class=\"dataframe\">\n",
       "  <thead>\n",
       "    <tr style=\"text-align: right;\">\n",
       "      <th></th>\n",
       "      <th>gender</th>\n",
       "      <th>race/ethnicity</th>\n",
       "      <th>parental level of education</th>\n",
       "      <th>lunch</th>\n",
       "      <th>math score</th>\n",
       "      <th>reading score</th>\n",
       "      <th>writing score</th>\n",
       "    </tr>\n",
       "    <tr>\n",
       "      <th>test preparation course</th>\n",
       "      <th></th>\n",
       "      <th></th>\n",
       "      <th></th>\n",
       "      <th></th>\n",
       "      <th></th>\n",
       "      <th></th>\n",
       "      <th></th>\n",
       "    </tr>\n",
       "  </thead>\n",
       "  <tbody>\n",
       "    <tr>\n",
       "      <th>completed</th>\n",
       "      <td>male</td>\n",
       "      <td>group E</td>\n",
       "      <td>some high school</td>\n",
       "      <td>standard</td>\n",
       "      <td>100</td>\n",
       "      <td>100</td>\n",
       "      <td>100</td>\n",
       "    </tr>\n",
       "    <tr>\n",
       "      <th>none</th>\n",
       "      <td>male</td>\n",
       "      <td>group E</td>\n",
       "      <td>some high school</td>\n",
       "      <td>standard</td>\n",
       "      <td>100</td>\n",
       "      <td>100</td>\n",
       "      <td>100</td>\n",
       "    </tr>\n",
       "  </tbody>\n",
       "</table>\n",
       "</div>"
      ],
      "text/plain": [
       "                        gender race/ethnicity parental level of education  \\\n",
       "test preparation course                                                     \n",
       "completed                 male        group E            some high school   \n",
       "none                      male        group E            some high school   \n",
       "\n",
       "                            lunch  math score  reading score  writing score  \n",
       "test preparation course                                                      \n",
       "completed                standard         100            100            100  \n",
       "none                     standard         100            100            100  "
      ]
     },
     "execution_count": 123,
     "metadata": {},
     "output_type": "execute_result"
    }
   ],
   "source": [
    "data.groupby(['test preparation course']).max()\n",
    "##Maximum values are obtained"
   ]
  },
  {
   "cell_type": "markdown",
   "id": "6ad790fe",
   "metadata": {},
   "source": [
    "### The score variations based on status of test completion course are plotted with box plots"
   ]
  },
  {
   "cell_type": "markdown",
   "id": "2f767638",
   "metadata": {},
   "source": [
    "#### 1. Math score variation"
   ]
  },
  {
   "cell_type": "code",
   "execution_count": 127,
   "id": "30473cc6",
   "metadata": {},
   "outputs": [
    {
     "data": {
      "text/plain": [
       "<AxesSubplot:title={'center':'None'}, xlabel='math score'>"
      ]
     },
     "execution_count": 127,
     "metadata": {},
     "output_type": "execute_result"
    },
    {
     "data": {
      "image/png": "[encoded data removed]",
      "text/plain": [
       "<Figure size 1008x576 with 2 Axes>"
      ]
     },
     "metadata": {
      "needs_background": "light"
     },
     "output_type": "display_data"
    }
   ],
   "source": [
    "plt.figure(figsize=(14,8))\n",
    "plt.suptitle('Math score variation')\n",
    "plt.subplot(2,2,1)\n",
    "sns.boxplot(data['math score'][data['test preparation course']=='completed'])\n",
    "plt.title('preparation course completed')\n",
    "\n",
    "plt.subplot(2,2,2)\n",
    "plt.title('None')\n",
    "sns.boxplot(data['math score'][data['test preparation course']=='none'])"
   ]
  },
  {
   "cell_type": "markdown",
   "id": "a5f3ed30",
   "metadata": {},
   "source": [
    "#### 2.Writing score variation"
   ]
  },
  {
   "cell_type": "code",
   "execution_count": 128,
   "id": "94f41c7a",
   "metadata": {},
   "outputs": [
    {
     "data": {
      "text/plain": [
       "<AxesSubplot:title={'center':'None'}, xlabel='writing score'>"
      ]
     },
     "execution_count": 128,
     "metadata": {},
     "output_type": "execute_result"
    },
    {
     "data": {
      "image/png": "[encoded data removed]",
      "text/plain": [
       "<Figure size 1008x576 with 2 Axes>"
      ]
     },
     "metadata": {
      "needs_background": "light"
     },
     "output_type": "display_data"
    }
   ],
   "source": [
    "plt.figure(figsize=(14,8))\n",
    "plt.suptitle('writing score variation')\n",
    "plt.subplot(2,2,1)\n",
    "sns.boxplot(data['writing score'][data['test preparation course']=='completed'])\n",
    "plt.title('preparation course completed')\n",
    "\n",
    "plt.subplot(2,2,2)\n",
    "plt.title('None')\n",
    "sns.boxplot(data['writing score'][data['test preparation course']=='none'])"
   ]
  },
  {
   "cell_type": "markdown",
   "id": "b6bb3e34",
   "metadata": {},
   "source": [
    "#### 3.Reading score variation"
   ]
  },
  {
   "cell_type": "code",
   "execution_count": 129,
   "id": "dc2e0e83",
   "metadata": {},
   "outputs": [
    {
     "data": {
      "text/plain": [
       "<AxesSubplot:title={'center':'None'}, xlabel='reading score'>"
      ]
     },
     "execution_count": 129,
     "metadata": {},
     "output_type": "execute_result"
    },
    {
     "data": {
      "image/png": "[encoded data removed]",
      "text/plain": [
       "<Figure size 1008x576 with 2 Axes>"
      ]
     },
     "metadata": {
      "needs_background": "light"
     },
     "output_type": "display_data"
    }
   ],
   "source": [
    "plt.figure(figsize=(14,8))\n",
    "plt.suptitle('reading score variation')\n",
    "plt.subplot(2,2,1)\n",
    "sns.boxplot(data['reading score'][data['test preparation course']=='completed'])\n",
    "plt.title('preparation course completed')\n",
    "\n",
    "plt.subplot(2,2,2)\n",
    "plt.title('None')\n",
    "sns.boxplot(data['reading score'][data['test preparation course']=='none'])"
   ]
  },
  {
   "cell_type": "markdown",
   "id": "e1cfd886",
   "metadata": {},
   "source": [
    "**All the three scores are higher for students who have completed the preparation course and also more no of students with scores in the range of 70, 80 are also found among those who completed the course.**"
   ]
  },
  {
   "cell_type": "markdown",
   "id": "4f5a47da",
   "metadata": {},
   "source": [
    "## 5.The management needs your help to give bonus points to the top 25% of students based on their maths score, so how will you help the management to achieve this."
   ]
  },
  {
   "cell_type": "code",
   "execution_count": 133,
   "id": "4eab4a96",
   "metadata": {},
   "outputs": [
    {
     "data": {
      "text/html": [
       "<div>\n",
       "<style scoped>\n",
       "    .dataframe tbody tr th:only-of-type {\n",
       "        vertical-align: middle;\n",
       "    }\n",
       "\n",
       "    .dataframe tbody tr th {\n",
       "        vertical-align: top;\n",
       "    }\n",
       "\n",
       "    .dataframe thead th {\n",
       "        text-align: right;\n",
       "    }\n",
       "</style>\n",
       "<table border=\"1\" class=\"dataframe\">\n",
       "  <thead>\n",
       "    <tr style=\"text-align: right;\">\n",
       "      <th></th>\n",
       "      <th>index</th>\n",
       "      <th>gender</th>\n",
       "      <th>race/ethnicity</th>\n",
       "      <th>parental level of education</th>\n",
       "      <th>lunch</th>\n",
       "      <th>test preparation course</th>\n",
       "      <th>math score</th>\n",
       "      <th>reading score</th>\n",
       "      <th>writing score</th>\n",
       "    </tr>\n",
       "  </thead>\n",
       "  <tbody>\n",
       "    <tr>\n",
       "      <th>0</th>\n",
       "      <td>999</td>\n",
       "      <td>male</td>\n",
       "      <td>group E</td>\n",
       "      <td>bachelor's degree</td>\n",
       "      <td>standard</td>\n",
       "      <td>completed</td>\n",
       "      <td>100</td>\n",
       "      <td>100</td>\n",
       "      <td>100</td>\n",
       "    </tr>\n",
       "    <tr>\n",
       "      <th>1</th>\n",
       "      <td>996</td>\n",
       "      <td>male</td>\n",
       "      <td>group A</td>\n",
       "      <td>some college</td>\n",
       "      <td>standard</td>\n",
       "      <td>completed</td>\n",
       "      <td>100</td>\n",
       "      <td>96</td>\n",
       "      <td>86</td>\n",
       "    </tr>\n",
       "    <tr>\n",
       "      <th>2</th>\n",
       "      <td>515</td>\n",
       "      <td>female</td>\n",
       "      <td>group E</td>\n",
       "      <td>some college</td>\n",
       "      <td>standard</td>\n",
       "      <td>none</td>\n",
       "      <td>100</td>\n",
       "      <td>92</td>\n",
       "      <td>97</td>\n",
       "    </tr>\n",
       "    <tr>\n",
       "      <th>3</th>\n",
       "      <td>517</td>\n",
       "      <td>female</td>\n",
       "      <td>group E</td>\n",
       "      <td>associate's degree</td>\n",
       "      <td>standard</td>\n",
       "      <td>none</td>\n",
       "      <td>100</td>\n",
       "      <td>100</td>\n",
       "      <td>100</td>\n",
       "    </tr>\n",
       "    <tr>\n",
       "      <th>4</th>\n",
       "      <td>516</td>\n",
       "      <td>female</td>\n",
       "      <td>group E</td>\n",
       "      <td>bachelor's degree</td>\n",
       "      <td>standard</td>\n",
       "      <td>none</td>\n",
       "      <td>100</td>\n",
       "      <td>100</td>\n",
       "      <td>100</td>\n",
       "    </tr>\n",
       "    <tr>\n",
       "      <th>...</th>\n",
       "      <td>...</td>\n",
       "      <td>...</td>\n",
       "      <td>...</td>\n",
       "      <td>...</td>\n",
       "      <td>...</td>\n",
       "      <td>...</td>\n",
       "      <td>...</td>\n",
       "      <td>...</td>\n",
       "      <td>...</td>\n",
       "    </tr>\n",
       "    <tr>\n",
       "      <th>995</th>\n",
       "      <td>2</td>\n",
       "      <td>female</td>\n",
       "      <td>group B</td>\n",
       "      <td>some high school</td>\n",
       "      <td>free/reduced</td>\n",
       "      <td>none</td>\n",
       "      <td>18</td>\n",
       "      <td>32</td>\n",
       "      <td>28</td>\n",
       "    </tr>\n",
       "    <tr>\n",
       "      <th>996</th>\n",
       "      <td>51</td>\n",
       "      <td>female</td>\n",
       "      <td>group C</td>\n",
       "      <td>some high school</td>\n",
       "      <td>free/reduced</td>\n",
       "      <td>none</td>\n",
       "      <td>13</td>\n",
       "      <td>41</td>\n",
       "      <td>51</td>\n",
       "    </tr>\n",
       "    <tr>\n",
       "      <th>997</th>\n",
       "      <td>3</td>\n",
       "      <td>female</td>\n",
       "      <td>group B</td>\n",
       "      <td>some college</td>\n",
       "      <td>standard</td>\n",
       "      <td>none</td>\n",
       "      <td>11</td>\n",
       "      <td>38</td>\n",
       "      <td>32</td>\n",
       "    </tr>\n",
       "    <tr>\n",
       "      <th>998</th>\n",
       "      <td>1</td>\n",
       "      <td>female</td>\n",
       "      <td>group B</td>\n",
       "      <td>high school</td>\n",
       "      <td>free/reduced</td>\n",
       "      <td>none</td>\n",
       "      <td>8</td>\n",
       "      <td>24</td>\n",
       "      <td>23</td>\n",
       "    </tr>\n",
       "    <tr>\n",
       "      <th>999</th>\n",
       "      <td>0</td>\n",
       "      <td>female</td>\n",
       "      <td>group C</td>\n",
       "      <td>some high school</td>\n",
       "      <td>free/reduced</td>\n",
       "      <td>none</td>\n",
       "      <td>0</td>\n",
       "      <td>17</td>\n",
       "      <td>10</td>\n",
       "    </tr>\n",
       "  </tbody>\n",
       "</table>\n",
       "<p>1000 rows × 9 columns</p>\n",
       "</div>"
      ],
      "text/plain": [
       "     index  gender race/ethnicity parental level of education         lunch  \\\n",
       "0      999    male        group E           bachelor's degree      standard   \n",
       "1      996    male        group A                some college      standard   \n",
       "2      515  female        group E                some college      standard   \n",
       "3      517  female        group E          associate's degree      standard   \n",
       "4      516  female        group E           bachelor's degree      standard   \n",
       "..     ...     ...            ...                         ...           ...   \n",
       "995      2  female        group B            some high school  free/reduced   \n",
       "996     51  female        group C            some high school  free/reduced   \n",
       "997      3  female        group B                some college      standard   \n",
       "998      1  female        group B                 high school  free/reduced   \n",
       "999      0  female        group C            some high school  free/reduced   \n",
       "\n",
       "    test preparation course  math score  reading score  writing score  \n",
       "0                 completed         100            100            100  \n",
       "1                 completed         100             96             86  \n",
       "2                      none         100             92             97  \n",
       "3                      none         100            100            100  \n",
       "4                      none         100            100            100  \n",
       "..                      ...         ...            ...            ...  \n",
       "995                    none          18             32             28  \n",
       "996                    none          13             41             51  \n",
       "997                    none          11             38             32  \n",
       "998                    none           8             24             23  \n",
       "999                    none           0             17             10  \n",
       "\n",
       "[1000 rows x 9 columns]"
      ]
     },
     "execution_count": 133,
     "metadata": {},
     "output_type": "execute_result"
    }
   ],
   "source": [
    "sort=data.sort_values('math score',ascending=False)\n",
    "##Sorting the values according to the math score\n",
    "\n",
    "sdata=sort.reset_index()\n",
    "##Resetting the index accordingly\n",
    "##visualizing the sorted data\n",
    "\n",
    "sdata\n"
   ]
  },
  {
   "cell_type": "code",
   "execution_count": 143,
   "id": "a8142c5d",
   "metadata": {},
   "outputs": [
    {
     "data": {
      "text/plain": [
       "0.75    77.0\n",
       "Name: math score, dtype: float64"
      ]
     },
     "execution_count": 143,
     "metadata": {},
     "output_type": "execute_result"
    }
   ],
   "source": [
    "##Here the question is to find the top 25% of students with repect to math score.\n",
    "##so by taking the 75% value in math score , all the math score values above it will come in the top 25% \n",
    "\n",
    "##taking the value within the math score data which would 75% of the math score is done below:\n",
    "sdata['math score'].quantile([.75,])"
   ]
  },
  {
   "cell_type": "code",
   "execution_count": 145,
   "id": "3c47a236",
   "metadata": {},
   "outputs": [
    {
     "data": {
      "text/html": [
       "<div>\n",
       "<style scoped>\n",
       "    .dataframe tbody tr th:only-of-type {\n",
       "        vertical-align: middle;\n",
       "    }\n",
       "\n",
       "    .dataframe tbody tr th {\n",
       "        vertical-align: top;\n",
       "    }\n",
       "\n",
       "    .dataframe thead th {\n",
       "        text-align: right;\n",
       "    }\n",
       "</style>\n",
       "<table border=\"1\" class=\"dataframe\">\n",
       "  <thead>\n",
       "    <tr style=\"text-align: right;\">\n",
       "      <th></th>\n",
       "      <th>index</th>\n",
       "      <th>gender</th>\n",
       "      <th>race/ethnicity</th>\n",
       "      <th>parental level of education</th>\n",
       "      <th>lunch</th>\n",
       "      <th>test preparation course</th>\n",
       "      <th>math score</th>\n",
       "      <th>reading score</th>\n",
       "      <th>writing score</th>\n",
       "    </tr>\n",
       "  </thead>\n",
       "  <tbody>\n",
       "    <tr>\n",
       "      <th>0</th>\n",
       "      <td>999</td>\n",
       "      <td>male</td>\n",
       "      <td>group E</td>\n",
       "      <td>bachelor's degree</td>\n",
       "      <td>standard</td>\n",
       "      <td>completed</td>\n",
       "      <td>100</td>\n",
       "      <td>100</td>\n",
       "      <td>100</td>\n",
       "    </tr>\n",
       "    <tr>\n",
       "      <th>1</th>\n",
       "      <td>996</td>\n",
       "      <td>male</td>\n",
       "      <td>group A</td>\n",
       "      <td>some college</td>\n",
       "      <td>standard</td>\n",
       "      <td>completed</td>\n",
       "      <td>100</td>\n",
       "      <td>96</td>\n",
       "      <td>86</td>\n",
       "    </tr>\n",
       "    <tr>\n",
       "      <th>2</th>\n",
       "      <td>515</td>\n",
       "      <td>female</td>\n",
       "      <td>group E</td>\n",
       "      <td>some college</td>\n",
       "      <td>standard</td>\n",
       "      <td>none</td>\n",
       "      <td>100</td>\n",
       "      <td>92</td>\n",
       "      <td>97</td>\n",
       "    </tr>\n",
       "    <tr>\n",
       "      <th>3</th>\n",
       "      <td>517</td>\n",
       "      <td>female</td>\n",
       "      <td>group E</td>\n",
       "      <td>associate's degree</td>\n",
       "      <td>standard</td>\n",
       "      <td>none</td>\n",
       "      <td>100</td>\n",
       "      <td>100</td>\n",
       "      <td>100</td>\n",
       "    </tr>\n",
       "    <tr>\n",
       "      <th>4</th>\n",
       "      <td>516</td>\n",
       "      <td>female</td>\n",
       "      <td>group E</td>\n",
       "      <td>bachelor's degree</td>\n",
       "      <td>standard</td>\n",
       "      <td>none</td>\n",
       "      <td>100</td>\n",
       "      <td>100</td>\n",
       "      <td>100</td>\n",
       "    </tr>\n",
       "    <tr>\n",
       "      <th>...</th>\n",
       "      <td>...</td>\n",
       "      <td>...</td>\n",
       "      <td>...</td>\n",
       "      <td>...</td>\n",
       "      <td>...</td>\n",
       "      <td>...</td>\n",
       "      <td>...</td>\n",
       "      <td>...</td>\n",
       "      <td>...</td>\n",
       "    </tr>\n",
       "    <tr>\n",
       "      <th>250</th>\n",
       "      <td>851</td>\n",
       "      <td>male</td>\n",
       "      <td>group D</td>\n",
       "      <td>some college</td>\n",
       "      <td>standard</td>\n",
       "      <td>completed</td>\n",
       "      <td>77</td>\n",
       "      <td>62</td>\n",
       "      <td>62</td>\n",
       "    </tr>\n",
       "    <tr>\n",
       "      <th>251</th>\n",
       "      <td>849</td>\n",
       "      <td>male</td>\n",
       "      <td>group A</td>\n",
       "      <td>bachelor's degree</td>\n",
       "      <td>standard</td>\n",
       "      <td>none</td>\n",
       "      <td>77</td>\n",
       "      <td>67</td>\n",
       "      <td>68</td>\n",
       "    </tr>\n",
       "    <tr>\n",
       "      <th>252</th>\n",
       "      <td>850</td>\n",
       "      <td>male</td>\n",
       "      <td>group C</td>\n",
       "      <td>associate's degree</td>\n",
       "      <td>free/reduced</td>\n",
       "      <td>none</td>\n",
       "      <td>77</td>\n",
       "      <td>67</td>\n",
       "      <td>64</td>\n",
       "    </tr>\n",
       "    <tr>\n",
       "      <th>253</th>\n",
       "      <td>421</td>\n",
       "      <td>female</td>\n",
       "      <td>group C</td>\n",
       "      <td>some college</td>\n",
       "      <td>free/reduced</td>\n",
       "      <td>none</td>\n",
       "      <td>77</td>\n",
       "      <td>90</td>\n",
       "      <td>91</td>\n",
       "    </tr>\n",
       "    <tr>\n",
       "      <th>254</th>\n",
       "      <td>414</td>\n",
       "      <td>female</td>\n",
       "      <td>group A</td>\n",
       "      <td>high school</td>\n",
       "      <td>free/reduced</td>\n",
       "      <td>completed</td>\n",
       "      <td>77</td>\n",
       "      <td>88</td>\n",
       "      <td>85</td>\n",
       "    </tr>\n",
       "  </tbody>\n",
       "</table>\n",
       "<p>255 rows × 9 columns</p>\n",
       "</div>"
      ],
      "text/plain": [
       "     index  gender race/ethnicity parental level of education         lunch  \\\n",
       "0      999    male        group E           bachelor's degree      standard   \n",
       "1      996    male        group A                some college      standard   \n",
       "2      515  female        group E                some college      standard   \n",
       "3      517  female        group E          associate's degree      standard   \n",
       "4      516  female        group E           bachelor's degree      standard   \n",
       "..     ...     ...            ...                         ...           ...   \n",
       "250    851    male        group D                some college      standard   \n",
       "251    849    male        group A           bachelor's degree      standard   \n",
       "252    850    male        group C          associate's degree  free/reduced   \n",
       "253    421  female        group C                some college  free/reduced   \n",
       "254    414  female        group A                 high school  free/reduced   \n",
       "\n",
       "    test preparation course  math score  reading score  writing score  \n",
       "0                 completed         100            100            100  \n",
       "1                 completed         100             96             86  \n",
       "2                      none         100             92             97  \n",
       "3                      none         100            100            100  \n",
       "4                      none         100            100            100  \n",
       "..                      ...         ...            ...            ...  \n",
       "250               completed          77             62             62  \n",
       "251                    none          77             67             68  \n",
       "252                    none          77             67             64  \n",
       "253                    none          77             90             91  \n",
       "254               completed          77             88             85  \n",
       "\n",
       "[255 rows x 9 columns]"
      ]
     },
     "execution_count": 145,
     "metadata": {},
     "output_type": "execute_result"
    }
   ],
   "source": [
    "sdata1=sdata[sdata['math score']>=77.0]\n",
    "sdata1"
   ]
  },
  {
   "cell_type": "markdown",
   "id": "3aa3d0bd",
   "metadata": {},
   "source": [
    "**The data asked by the management with top 25% students based on their math score is obtained**"
   ]
  },
  {
   "cell_type": "code",
   "execution_count": null,
   "id": "455aa680",
   "metadata": {},
   "outputs": [],
   "source": []
  }
 ],
 "metadata": {
  "kernelspec": {
   "display_name": "Python 3",
   "language": "python",
   "name": "python3"
  },
  "language_info": {
   "codemirror_mode": {
    "name": "ipython",
    "version": 3
   },
   "file_extension": ".py",
   "mimetype": "text/x-python",
   "name": "python",
   "nbconvert_exporter": "python",
   "pygments_lexer": "ipython3",
   "version": "3.8.8"
  }
 },
 "nbformat": 4,
 "nbformat_minor": 5
}
