{
 "cells": [
  {
   "cell_type": "markdown",
   "id": "9e5647e4",
   "metadata": {},
   "source": [
    "# Building a model that classifies the side effects of a drug"
   ]
  },
  {
   "cell_type": "code",
   "execution_count": 2,
   "id": "097f247f",
   "metadata": {},
   "outputs": [],
   "source": [
    "#Importing the libraries needed\n",
    "import numpy as np\n",
    "import pandas as pd\n",
    "import matplotlib.pyplot as plt\n",
    "import seaborn as sns"
   ]
  },
  {
   "cell_type": "code",
   "execution_count": 3,
   "id": "53b6a180",
   "metadata": {},
   "outputs": [],
   "source": [
    "#Reading the dataset to the python environment\n",
    "data=pd.read_csv(\"drugdata.csv\")"
   ]
  },
  {
   "cell_type": "code",
   "execution_count": 4,
   "id": "803b3eba",
   "metadata": {},
   "outputs": [
    {
     "data": {
      "text/html": [
       "<div>\n",
       "<style scoped>\n",
       "    .dataframe tbody tr th:only-of-type {\n",
       "        vertical-align: middle;\n",
       "    }\n",
       "\n",
       "    .dataframe tbody tr th {\n",
       "        vertical-align: top;\n",
       "    }\n",
       "\n",
       "    .dataframe thead th {\n",
       "        text-align: right;\n",
       "    }\n",
       "</style>\n",
       "<table border=\"1\" class=\"dataframe\">\n",
       "  <thead>\n",
       "    <tr style=\"text-align: right;\">\n",
       "      <th></th>\n",
       "      <th>Name</th>\n",
       "      <th>Age</th>\n",
       "      <th>Condition</th>\n",
       "      <th>Date</th>\n",
       "      <th>Drug</th>\n",
       "      <th>DrugId</th>\n",
       "      <th>EaseofUse</th>\n",
       "      <th>Effectiveness</th>\n",
       "      <th>Reviews</th>\n",
       "      <th>Satisfaction</th>\n",
       "      <th>Sides</th>\n",
       "      <th>UsefulCount</th>\n",
       "      <th>Sex</th>\n",
       "    </tr>\n",
       "  </thead>\n",
       "  <tbody>\n",
       "    <tr>\n",
       "      <th>0</th>\n",
       "      <td>Adelaide</td>\n",
       "      <td>75 or over</td>\n",
       "      <td>Stuffy Nose</td>\n",
       "      <td>9/21/2014</td>\n",
       "      <td>25dph-7.5peh</td>\n",
       "      <td>146724</td>\n",
       "      <td>5</td>\n",
       "      <td>5</td>\n",
       "      <td>I'm a retired physician and of all the meds I ...</td>\n",
       "      <td>5</td>\n",
       "      <td>Drowsiness,  dizziness ,  dry mouth /nose/thro...</td>\n",
       "      <td>0</td>\n",
       "      <td>F</td>\n",
       "    </tr>\n",
       "    <tr>\n",
       "      <th>1</th>\n",
       "      <td>Adelaide</td>\n",
       "      <td>25-34</td>\n",
       "      <td>Cold Symptoms</td>\n",
       "      <td>1/13/2011</td>\n",
       "      <td>25dph-7.5peh</td>\n",
       "      <td>146724</td>\n",
       "      <td>5</td>\n",
       "      <td>5</td>\n",
       "      <td>cleared me right up even with my throat hurtin...</td>\n",
       "      <td>5</td>\n",
       "      <td>Drowsiness,  dizziness ,  dry mouth /nose/thro...</td>\n",
       "      <td>1</td>\n",
       "      <td>F</td>\n",
       "    </tr>\n",
       "    <tr>\n",
       "      <th>2</th>\n",
       "      <td>Adelaide</td>\n",
       "      <td>65-74</td>\n",
       "      <td>Other</td>\n",
       "      <td>7/16/2012</td>\n",
       "      <td>warfarin (bulk) 100 % powder</td>\n",
       "      <td>144731</td>\n",
       "      <td>2</td>\n",
       "      <td>3</td>\n",
       "      <td>why did my PTINR go from a normal of 2.5 to ov...</td>\n",
       "      <td>3</td>\n",
       "      <td></td>\n",
       "      <td>0</td>\n",
       "      <td>F</td>\n",
       "    </tr>\n",
       "    <tr>\n",
       "      <th>3</th>\n",
       "      <td>Adelaide</td>\n",
       "      <td>75 or over</td>\n",
       "      <td>Other</td>\n",
       "      <td>9/23/2010</td>\n",
       "      <td>warfarin (bulk) 100 % powder</td>\n",
       "      <td>144731</td>\n",
       "      <td>2</td>\n",
       "      <td>2</td>\n",
       "      <td>FALLING AND DON'T REALISE IT</td>\n",
       "      <td>1</td>\n",
       "      <td></td>\n",
       "      <td>0</td>\n",
       "      <td>F</td>\n",
       "    </tr>\n",
       "    <tr>\n",
       "      <th>4</th>\n",
       "      <td>Adelaide</td>\n",
       "      <td>35-44</td>\n",
       "      <td>Other</td>\n",
       "      <td>01-06-2009</td>\n",
       "      <td>warfarin (bulk) 100 % powder</td>\n",
       "      <td>144731</td>\n",
       "      <td>1</td>\n",
       "      <td>1</td>\n",
       "      <td>My grandfather was prescribed this medication ...</td>\n",
       "      <td>1</td>\n",
       "      <td></td>\n",
       "      <td>1</td>\n",
       "      <td>F</td>\n",
       "    </tr>\n",
       "  </tbody>\n",
       "</table>\n",
       "</div>"
      ],
      "text/plain": [
       "       Name         Age      Condition        Date  \\\n",
       "0  Adelaide  75 or over    Stuffy Nose   9/21/2014   \n",
       "1  Adelaide       25-34  Cold Symptoms   1/13/2011   \n",
       "2  Adelaide       65-74          Other   7/16/2012   \n",
       "3  Adelaide  75 or over          Other   9/23/2010   \n",
       "4  Adelaide       35-44          Other  01-06-2009   \n",
       "\n",
       "                           Drug  DrugId  EaseofUse  Effectiveness  \\\n",
       "0                  25dph-7.5peh  146724          5              5   \n",
       "1                  25dph-7.5peh  146724          5              5   \n",
       "2  warfarin (bulk) 100 % powder  144731          2              3   \n",
       "3  warfarin (bulk) 100 % powder  144731          2              2   \n",
       "4  warfarin (bulk) 100 % powder  144731          1              1   \n",
       "\n",
       "                                             Reviews  Satisfaction  \\\n",
       "0  I'm a retired physician and of all the meds I ...             5   \n",
       "1  cleared me right up even with my throat hurtin...             5   \n",
       "2  why did my PTINR go from a normal of 2.5 to ov...             3   \n",
       "3                       FALLING AND DON'T REALISE IT             1   \n",
       "4  My grandfather was prescribed this medication ...             1   \n",
       "\n",
       "                                               Sides  UsefulCount Sex  \n",
       "0  Drowsiness,  dizziness ,  dry mouth /nose/thro...            0   F  \n",
       "1  Drowsiness,  dizziness ,  dry mouth /nose/thro...            1   F  \n",
       "2                                                               0   F  \n",
       "3                                                               0   F  \n",
       "4                                                               1   F  "
      ]
     },
     "execution_count": 4,
     "metadata": {},
     "output_type": "execute_result"
    }
   ],
   "source": [
    "data.head()\n",
    "##checking whether the dataset is loaded properly"
   ]
  },
  {
   "cell_type": "code",
   "execution_count": 5,
   "id": "e1f3b575",
   "metadata": {},
   "outputs": [
    {
     "data": {
      "text/plain": [
       "(362806, 13)"
      ]
     },
     "execution_count": 5,
     "metadata": {},
     "output_type": "execute_result"
    }
   ],
   "source": [
    "data.shape\n",
    "##checking the shape of the dataset"
   ]
  },
  {
   "cell_type": "code",
   "execution_count": 6,
   "id": "9dec9552",
   "metadata": {},
   "outputs": [
    {
     "name": "stdout",
     "output_type": "stream",
     "text": [
      "<class 'pandas.core.frame.DataFrame'>\n",
      "RangeIndex: 362806 entries, 0 to 362805\n",
      "Data columns (total 13 columns):\n",
      " #   Column         Non-Null Count   Dtype \n",
      "---  ------         --------------   ----- \n",
      " 0   Name           362806 non-null  object\n",
      " 1   Age            362806 non-null  object\n",
      " 2   Condition      362806 non-null  object\n",
      " 3   Date           362806 non-null  object\n",
      " 4   Drug           362806 non-null  object\n",
      " 5   DrugId         362806 non-null  int64 \n",
      " 6   EaseofUse      362806 non-null  int64 \n",
      " 7   Effectiveness  362806 non-null  int64 \n",
      " 8   Reviews        362769 non-null  object\n",
      " 9   Satisfaction   362806 non-null  int64 \n",
      " 10  Sides          362806 non-null  object\n",
      " 11  UsefulCount    362806 non-null  int64 \n",
      " 12  Sex            362806 non-null  object\n",
      "dtypes: int64(5), object(8)\n",
      "memory usage: 36.0+ MB\n"
     ]
    }
   ],
   "source": [
    "data.info()\n",
    "##to get the basic information of the data"
   ]
  },
  {
   "cell_type": "code",
   "execution_count": 7,
   "id": "200d9fec",
   "metadata": {},
   "outputs": [
    {
     "data": {
      "text/plain": [
       "Index(['Name', 'Age', 'Condition', 'Date', 'Drug', 'DrugId', 'EaseofUse',\n",
       "       'Effectiveness', 'Reviews', 'Satisfaction', 'Sides', 'UsefulCount',\n",
       "       'Sex'],\n",
       "      dtype='object')"
      ]
     },
     "execution_count": 7,
     "metadata": {},
     "output_type": "execute_result"
    }
   ],
   "source": [
    "data.columns\n",
    "##getting the columns of the dataset"
   ]
  },
  {
   "cell_type": "markdown",
   "id": "6610297e",
   "metadata": {},
   "source": [
    "## Data Pre-processing"
   ]
  },
  {
   "cell_type": "code",
   "execution_count": 8,
   "id": "6c6346a8",
   "metadata": {},
   "outputs": [
    {
     "data": {
      "text/plain": [
       "Name              0\n",
       "Age               0\n",
       "Condition         0\n",
       "Date              0\n",
       "Drug              0\n",
       "DrugId            0\n",
       "EaseofUse         0\n",
       "Effectiveness     0\n",
       "Reviews          37\n",
       "Satisfaction      0\n",
       "Sides             0\n",
       "UsefulCount       0\n",
       "Sex               0\n",
       "dtype: int64"
      ]
     },
     "execution_count": 8,
     "metadata": {},
     "output_type": "execute_result"
    }
   ],
   "source": [
    "data.isna().sum()\n",
    "##Checking for any null values present in the dataset "
   ]
  },
  {
   "cell_type": "code",
   "execution_count": 9,
   "id": "854cf344",
   "metadata": {},
   "outputs": [
    {
     "data": {
      "text/plain": [
       "250159"
      ]
     },
     "execution_count": 9,
     "metadata": {},
     "output_type": "execute_result"
    }
   ],
   "source": [
    "data.Reviews.nunique()"
   ]
  },
  {
   "cell_type": "code",
   "execution_count": 10,
   "id": "5a3f9cfc",
   "metadata": {},
   "outputs": [],
   "source": [
    "#Since Reviews is having more than half of the values as unique we can neglect this column.\n",
    "data.drop(\"Reviews\",axis=1,inplace=True) "
   ]
  },
  {
   "cell_type": "code",
   "execution_count": 11,
   "id": "1573151c",
   "metadata": {},
   "outputs": [
    {
     "data": {
      "text/plain": [
       "Name             0\n",
       "Age              0\n",
       "Condition        0\n",
       "Date             0\n",
       "Drug             0\n",
       "DrugId           0\n",
       "EaseofUse        0\n",
       "Effectiveness    0\n",
       "Satisfaction     0\n",
       "Sides            0\n",
       "UsefulCount      0\n",
       "Sex              0\n",
       "dtype: int64"
      ]
     },
     "execution_count": 11,
     "metadata": {},
     "output_type": "execute_result"
    }
   ],
   "source": [
    "data.isna().sum()"
   ]
  },
  {
   "cell_type": "markdown",
   "id": "2d0028e8",
   "metadata": {},
   "source": [
    "null values have been removed"
   ]
  },
  {
   "cell_type": "code",
   "execution_count": 12,
   "id": "12ee405c",
   "metadata": {},
   "outputs": [
    {
     "data": {
      "text/plain": [
       "['Name', 'Age', 'Condition', 'Date', 'Drug', 'Sides', 'Sex']"
      ]
     },
     "execution_count": 12,
     "metadata": {},
     "output_type": "execute_result"
    }
   ],
   "source": [
    "# check for categorical attributes\n",
    "\n",
    "cat_col = []\n",
    "for x in data:\n",
    "    if data.dtypes[x] == 'object':\n",
    "        cat_col.append(x)\n",
    "cat_col"
   ]
  },
  {
   "cell_type": "code",
   "execution_count": 13,
   "id": "cac0c98a",
   "metadata": {},
   "outputs": [
    {
     "data": {
      "text/plain": [
       "7093"
      ]
     },
     "execution_count": 13,
     "metadata": {},
     "output_type": "execute_result"
    }
   ],
   "source": [
    "data.Drug.nunique()"
   ]
  },
  {
   "cell_type": "code",
   "execution_count": 14,
   "id": "be548652",
   "metadata": {},
   "outputs": [
    {
     "data": {
      "text/plain": [
       "cymbalta                                            4648\n",
       "lisinopril solution                                 4269\n",
       "lisinopril                                          4269\n",
       "lexapro                                             4134\n",
       "hydrocodone-acetaminophen                           3944\n",
       "                                                    ... \n",
       "prenatal vit #33-iron-fa-dha combination package       1\n",
       "novolog cartridge                                      1\n",
       "turpentine liquid                                      1\n",
       "sucrose crystals                                       1\n",
       "antacid plus anti-gas                                  1\n",
       "Name: Drug, Length: 7093, dtype: int64"
      ]
     },
     "execution_count": 14,
     "metadata": {},
     "output_type": "execute_result"
    }
   ],
   "source": [
    "data['Drug'].value_counts()"
   ]
  },
  {
   "cell_type": "markdown",
   "id": "59ec0a46",
   "metadata": {},
   "source": [
    "## We are selecting the dataset of drug named 'cymbalta' with DrugId =91491 .Because it is having the most occurences."
   ]
  },
  {
   "cell_type": "code",
   "execution_count": 15,
   "id": "58b1b431",
   "metadata": {},
   "outputs": [],
   "source": [
    "data=data.drop(data.loc[(data['Drug']!='cymbalta')].index)"
   ]
  },
  {
   "cell_type": "code",
   "execution_count": 16,
   "id": "048125e5",
   "metadata": {},
   "outputs": [
    {
     "data": {
      "text/plain": [
       "(4648, 12)"
      ]
     },
     "execution_count": 16,
     "metadata": {},
     "output_type": "execute_result"
    }
   ],
   "source": [
    "data.shape"
   ]
  },
  {
   "cell_type": "markdown",
   "id": "2f61b809",
   "metadata": {},
   "source": [
    "now we have got only 4648 rows."
   ]
  },
  {
   "cell_type": "code",
   "execution_count": 17,
   "id": "061f510e",
   "metadata": {},
   "outputs": [
    {
     "data": {
      "text/html": [
       "<div>\n",
       "<style scoped>\n",
       "    .dataframe tbody tr th:only-of-type {\n",
       "        vertical-align: middle;\n",
       "    }\n",
       "\n",
       "    .dataframe tbody tr th {\n",
       "        vertical-align: top;\n",
       "    }\n",
       "\n",
       "    .dataframe thead th {\n",
       "        text-align: right;\n",
       "    }\n",
       "</style>\n",
       "<table border=\"1\" class=\"dataframe\">\n",
       "  <thead>\n",
       "    <tr style=\"text-align: right;\">\n",
       "      <th></th>\n",
       "      <th>Name</th>\n",
       "      <th>Age</th>\n",
       "      <th>Condition</th>\n",
       "      <th>Date</th>\n",
       "      <th>Drug</th>\n",
       "      <th>DrugId</th>\n",
       "      <th>EaseofUse</th>\n",
       "      <th>Effectiveness</th>\n",
       "      <th>Satisfaction</th>\n",
       "      <th>Sides</th>\n",
       "      <th>UsefulCount</th>\n",
       "      <th>Sex</th>\n",
       "    </tr>\n",
       "  </thead>\n",
       "  <tbody>\n",
       "    <tr>\n",
       "      <th>314212</th>\n",
       "      <td>Gabriel</td>\n",
       "      <td></td>\n",
       "      <td>Major Depressive Disorder</td>\n",
       "      <td>2/29/2020</td>\n",
       "      <td>cymbalta</td>\n",
       "      <td>91491</td>\n",
       "      <td>5</td>\n",
       "      <td>5</td>\n",
       "      <td>5</td>\n",
       "      <td>Nausea ,  dry mouth ,  constipation , loss of ...</td>\n",
       "      <td>12</td>\n",
       "      <td>M</td>\n",
       "    </tr>\n",
       "    <tr>\n",
       "      <th>314216</th>\n",
       "      <td>Gabriel</td>\n",
       "      <td>45-54</td>\n",
       "      <td>Repeated Episodes of Anxiety</td>\n",
       "      <td>1/13/2020</td>\n",
       "      <td>cymbalta</td>\n",
       "      <td>91491</td>\n",
       "      <td>3</td>\n",
       "      <td>1</td>\n",
       "      <td>1</td>\n",
       "      <td>Nausea ,  dry mouth ,  constipation , loss of ...</td>\n",
       "      <td>0</td>\n",
       "      <td>M</td>\n",
       "    </tr>\n",
       "    <tr>\n",
       "      <th>314223</th>\n",
       "      <td>Gabriel</td>\n",
       "      <td>45-54</td>\n",
       "      <td>Anxiousness associated with Depression</td>\n",
       "      <td>01-04-2020</td>\n",
       "      <td>cymbalta</td>\n",
       "      <td>91491</td>\n",
       "      <td>5</td>\n",
       "      <td>5</td>\n",
       "      <td>5</td>\n",
       "      <td>Nausea ,  dry mouth ,  constipation , loss of ...</td>\n",
       "      <td>0</td>\n",
       "      <td>M</td>\n",
       "    </tr>\n",
       "    <tr>\n",
       "      <th>314235</th>\n",
       "      <td>Gabriel</td>\n",
       "      <td>35-44</td>\n",
       "      <td>Anxiousness associated with Depression</td>\n",
       "      <td>12-06-2019</td>\n",
       "      <td>cymbalta</td>\n",
       "      <td>91491</td>\n",
       "      <td>3</td>\n",
       "      <td>3</td>\n",
       "      <td>2</td>\n",
       "      <td>Nausea ,  dry mouth ,  constipation , loss of ...</td>\n",
       "      <td>0</td>\n",
       "      <td>M</td>\n",
       "    </tr>\n",
       "    <tr>\n",
       "      <th>314246</th>\n",
       "      <td>Gabriel</td>\n",
       "      <td>55-64</td>\n",
       "      <td>Chronic Muscle or Bone Pain</td>\n",
       "      <td>11/20/2019</td>\n",
       "      <td>cymbalta</td>\n",
       "      <td>91491</td>\n",
       "      <td>2</td>\n",
       "      <td>2</td>\n",
       "      <td>2</td>\n",
       "      <td>Nausea ,  dry mouth ,  constipation , loss of ...</td>\n",
       "      <td>1</td>\n",
       "      <td>M</td>\n",
       "    </tr>\n",
       "  </tbody>\n",
       "</table>\n",
       "</div>"
      ],
      "text/plain": [
       "           Name    Age                               Condition        Date  \\\n",
       "314212  Gabriel                      Major Depressive Disorder   2/29/2020   \n",
       "314216  Gabriel  45-54            Repeated Episodes of Anxiety   1/13/2020   \n",
       "314223  Gabriel  45-54  Anxiousness associated with Depression  01-04-2020   \n",
       "314235  Gabriel  35-44  Anxiousness associated with Depression  12-06-2019   \n",
       "314246  Gabriel  55-64             Chronic Muscle or Bone Pain  11/20/2019   \n",
       "\n",
       "            Drug  DrugId  EaseofUse  Effectiveness  Satisfaction  \\\n",
       "314212  cymbalta   91491          5              5             5   \n",
       "314216  cymbalta   91491          3              1             1   \n",
       "314223  cymbalta   91491          5              5             5   \n",
       "314235  cymbalta   91491          3              3             2   \n",
       "314246  cymbalta   91491          2              2             2   \n",
       "\n",
       "                                                    Sides  UsefulCount Sex  \n",
       "314212  Nausea ,  dry mouth ,  constipation , loss of ...           12   M  \n",
       "314216  Nausea ,  dry mouth ,  constipation , loss of ...            0   M  \n",
       "314223  Nausea ,  dry mouth ,  constipation , loss of ...            0   M  \n",
       "314235  Nausea ,  dry mouth ,  constipation , loss of ...            0   M  \n",
       "314246  Nausea ,  dry mouth ,  constipation , loss of ...            1   M  "
      ]
     },
     "execution_count": 17,
     "metadata": {},
     "output_type": "execute_result"
    }
   ],
   "source": [
    "data.head()"
   ]
  },
  {
   "cell_type": "code",
   "execution_count": 18,
   "id": "344dc657",
   "metadata": {},
   "outputs": [
    {
     "data": {
      "text/plain": [
       "1"
      ]
     },
     "execution_count": 18,
     "metadata": {},
     "output_type": "execute_result"
    }
   ],
   "source": [
    "data.Sides.nunique()"
   ]
  },
  {
   "cell_type": "code",
   "execution_count": 19,
   "id": "ae0564f3",
   "metadata": {},
   "outputs": [
    {
     "data": {
      "text/plain": [
       "Nausea ,  dry mouth ,  constipation , loss of appetite, tiredness, drowsiness, or increased  sweating  may occur.    4648\n",
       "Name: Sides, dtype: int64"
      ]
     },
     "execution_count": 19,
     "metadata": {},
     "output_type": "execute_result"
    }
   ],
   "source": [
    "data['Sides'].value_counts()"
   ]
  },
  {
   "cell_type": "code",
   "execution_count": 20,
   "id": "8b48f125",
   "metadata": {},
   "outputs": [
    {
     "data": {
      "text/plain": [
       "1    1490\n",
       "5    1268\n",
       "4     852\n",
       "3     646\n",
       "2     392\n",
       "Name: Satisfaction, dtype: int64"
      ]
     },
     "execution_count": 20,
     "metadata": {},
     "output_type": "execute_result"
    }
   ],
   "source": [
    "data['Satisfaction'].value_counts()"
   ]
  },
  {
   "cell_type": "code",
   "execution_count": 21,
   "id": "8de452cc",
   "metadata": {},
   "outputs": [
    {
     "data": {
      "text/plain": [
       "array([ 12,   0,   1,   2,  11,  22,   3,  15,  27,  30,   4,   5,  19,\n",
       "        28,  21,  36,  35,  34,  25,   8,   7,  18,  39,   9,  56,  29,\n",
       "        71,  23,   6,  32,  24,  17,  13,  14,  10,  16,  20,  42, 103,\n",
       "        38,  33,  26,  61,  41,  93,  90, 134, 145,  51,  43,  48,  31,\n",
       "        82,  58,  46,  47,  45,  44,  60,  50, 116,  40,  65,  97,  77,\n",
       "       129,  68,  59,  37], dtype=int64)"
      ]
     },
     "execution_count": 21,
     "metadata": {},
     "output_type": "execute_result"
    }
   ],
   "source": [
    "data['UsefulCount'].unique()"
   ]
  },
  {
   "cell_type": "code",
   "execution_count": 22,
   "id": "a1a488b9",
   "metadata": {},
   "outputs": [
    {
     "data": {
      "text/plain": [
       "2189"
      ]
     },
     "execution_count": 22,
     "metadata": {},
     "output_type": "execute_result"
    }
   ],
   "source": [
    "data['Date'].nunique()"
   ]
  },
  {
   "cell_type": "code",
   "execution_count": 23,
   "id": "78b1fab5",
   "metadata": {},
   "outputs": [
    {
     "data": {
      "text/plain": [
       "5    2502\n",
       "4     998\n",
       "3     484\n",
       "1     476\n",
       "2     188\n",
       "Name: EaseofUse, dtype: int64"
      ]
     },
     "execution_count": 23,
     "metadata": {},
     "output_type": "execute_result"
    }
   ],
   "source": [
    "data['EaseofUse'].value_counts()"
   ]
  },
  {
   "cell_type": "markdown",
   "id": "f7b30d3b",
   "metadata": {},
   "source": [
    "Here we can drop the columns of Drug,Drug id ,sides because it is common. The other columns such as date can also be dropped. the column Name can also be dropped ,since name doesnt deal with the side effects of a drug."
   ]
  },
  {
   "cell_type": "code",
   "execution_count": 24,
   "id": "50e7a38a",
   "metadata": {},
   "outputs": [],
   "source": [
    "data=data.drop(['Date','Drug','DrugId','Sides','Name'],axis=1)"
   ]
  },
  {
   "cell_type": "code",
   "execution_count": 25,
   "id": "0131e90c",
   "metadata": {},
   "outputs": [
    {
     "data": {
      "text/html": [
       "<div>\n",
       "<style scoped>\n",
       "    .dataframe tbody tr th:only-of-type {\n",
       "        vertical-align: middle;\n",
       "    }\n",
       "\n",
       "    .dataframe tbody tr th {\n",
       "        vertical-align: top;\n",
       "    }\n",
       "\n",
       "    .dataframe thead th {\n",
       "        text-align: right;\n",
       "    }\n",
       "</style>\n",
       "<table border=\"1\" class=\"dataframe\">\n",
       "  <thead>\n",
       "    <tr style=\"text-align: right;\">\n",
       "      <th></th>\n",
       "      <th>Age</th>\n",
       "      <th>Condition</th>\n",
       "      <th>EaseofUse</th>\n",
       "      <th>Effectiveness</th>\n",
       "      <th>Satisfaction</th>\n",
       "      <th>UsefulCount</th>\n",
       "      <th>Sex</th>\n",
       "    </tr>\n",
       "  </thead>\n",
       "  <tbody>\n",
       "    <tr>\n",
       "      <th>314212</th>\n",
       "      <td></td>\n",
       "      <td>Major Depressive Disorder</td>\n",
       "      <td>5</td>\n",
       "      <td>5</td>\n",
       "      <td>5</td>\n",
       "      <td>12</td>\n",
       "      <td>M</td>\n",
       "    </tr>\n",
       "    <tr>\n",
       "      <th>314216</th>\n",
       "      <td>45-54</td>\n",
       "      <td>Repeated Episodes of Anxiety</td>\n",
       "      <td>3</td>\n",
       "      <td>1</td>\n",
       "      <td>1</td>\n",
       "      <td>0</td>\n",
       "      <td>M</td>\n",
       "    </tr>\n",
       "    <tr>\n",
       "      <th>314223</th>\n",
       "      <td>45-54</td>\n",
       "      <td>Anxiousness associated with Depression</td>\n",
       "      <td>5</td>\n",
       "      <td>5</td>\n",
       "      <td>5</td>\n",
       "      <td>0</td>\n",
       "      <td>M</td>\n",
       "    </tr>\n",
       "    <tr>\n",
       "      <th>314235</th>\n",
       "      <td>35-44</td>\n",
       "      <td>Anxiousness associated with Depression</td>\n",
       "      <td>3</td>\n",
       "      <td>3</td>\n",
       "      <td>2</td>\n",
       "      <td>0</td>\n",
       "      <td>M</td>\n",
       "    </tr>\n",
       "    <tr>\n",
       "      <th>314246</th>\n",
       "      <td>55-64</td>\n",
       "      <td>Chronic Muscle or Bone Pain</td>\n",
       "      <td>2</td>\n",
       "      <td>2</td>\n",
       "      <td>2</td>\n",
       "      <td>1</td>\n",
       "      <td>M</td>\n",
       "    </tr>\n",
       "  </tbody>\n",
       "</table>\n",
       "</div>"
      ],
      "text/plain": [
       "          Age                               Condition  EaseofUse  \\\n",
       "314212                      Major Depressive Disorder          5   \n",
       "314216  45-54            Repeated Episodes of Anxiety          3   \n",
       "314223  45-54  Anxiousness associated with Depression          5   \n",
       "314235  35-44  Anxiousness associated with Depression          3   \n",
       "314246  55-64             Chronic Muscle or Bone Pain          2   \n",
       "\n",
       "        Effectiveness  Satisfaction  UsefulCount Sex  \n",
       "314212              5             5           12   M  \n",
       "314216              1             1            0   M  \n",
       "314223              5             5            0   M  \n",
       "314235              3             2            0   M  \n",
       "314246              2             2            1   M  "
      ]
     },
     "execution_count": 25,
     "metadata": {},
     "output_type": "execute_result"
    }
   ],
   "source": [
    "data.head()"
   ]
  },
  {
   "cell_type": "code",
   "execution_count": 26,
   "id": "3a2bf454",
   "metadata": {},
   "outputs": [
    {
     "data": {
      "text/plain": [
       "Age              0\n",
       "Condition        0\n",
       "EaseofUse        0\n",
       "Effectiveness    0\n",
       "Satisfaction     0\n",
       "UsefulCount      0\n",
       "Sex              0\n",
       "dtype: int64"
      ]
     },
     "execution_count": 26,
     "metadata": {},
     "output_type": "execute_result"
    }
   ],
   "source": [
    "data.isna().sum()"
   ]
  },
  {
   "cell_type": "markdown",
   "id": "0ceebfb2",
   "metadata": {},
   "source": [
    "### Finding missing values"
   ]
  },
  {
   "cell_type": "code",
   "execution_count": 27,
   "id": "8d225fc7",
   "metadata": {},
   "outputs": [
    {
     "data": {
      "text/plain": [
       "45-54         1291\n",
       "55-64         1008\n",
       "35-44          874\n",
       "25-34          594\n",
       "65-74          400\n",
       "19-24          225\n",
       "               118\n",
       "75 or over     102\n",
       "13-18           34\n",
       "07-Dec           1\n",
       "0-2              1\n",
       "Name: Age, dtype: int64"
      ]
     },
     "execution_count": 27,
     "metadata": {},
     "output_type": "execute_result"
    }
   ],
   "source": [
    "data['Age'].value_counts()\n",
    "#there is a blank space ,so we can fill it with a value 3-6\n",
    "# change the value 07 - Dec to 7-12"
   ]
  },
  {
   "cell_type": "code",
   "execution_count": 28,
   "id": "7541a6f8",
   "metadata": {},
   "outputs": [
    {
     "data": {
      "text/plain": [
       "45-54         1291\n",
       "55-64         1008\n",
       "35-44          874\n",
       "25-34          594\n",
       "65-74          400\n",
       "19-24          225\n",
       "3-6            118\n",
       "75 or over     102\n",
       "13-18           34\n",
       "0-2              1\n",
       "7-12             1\n",
       "Name: Age, dtype: int64"
      ]
     },
     "execution_count": 28,
     "metadata": {},
     "output_type": "execute_result"
    }
   ],
   "source": [
    "data['Age'].replace(to_replace = [' '], value = '3-6', inplace = True)\n",
    "data['Age'].replace(to_replace = ['07-Dec'], value = '7-12', inplace = True)\n",
    "data['Age'].value_counts()"
   ]
  },
  {
   "cell_type": "markdown",
   "id": "7ffef75f",
   "metadata": {},
   "source": [
    "## Correlation Matrix"
   ]
  },
  {
   "cell_type": "code",
   "execution_count": 29,
   "id": "edacdf74",
   "metadata": {},
   "outputs": [
    {
     "data": {
      "text/plain": [
       "<AxesSubplot:>"
      ]
     },
     "execution_count": 29,
     "metadata": {},
     "output_type": "execute_result"
    },
    {
     "data": {
      "image/png": "[encoded data removed]",
      "text/plain": [
       "<Figure size 432x288 with 2 Axes>"
      ]
     },
     "metadata": {
      "needs_background": "light"
     },
     "output_type": "display_data"
    }
   ],
   "source": [
    "#CHECKING CORRELATION\n",
    "corrmatrix = data.corr()\n",
    "\n",
    "sns.heatmap(corrmatrix,vmin=-0.4 , vmax=0.9, annot=True, cmap='YlGnBu' , linewidth=0.2)"
   ]
  },
  {
   "cell_type": "markdown",
   "id": "d34e9ef9",
   "metadata": {},
   "source": [
    "HIGH LEVEL OF CORRELATION IS SEEN WITH EFFECTIVENESS AND SATISFACTION IN THE GRAPH"
   ]
  },
  {
   "cell_type": "code",
   "execution_count": 30,
   "id": "baae5fdc",
   "metadata": {},
   "outputs": [],
   "source": [
    "data_cpy =data"
   ]
  },
  {
   "cell_type": "markdown",
   "id": "ce1acf0f",
   "metadata": {},
   "source": [
    "## CHECKING FOR OUTLIERS"
   ]
  },
  {
   "cell_type": "code",
   "execution_count": 31,
   "id": "63f62318",
   "metadata": {},
   "outputs": [
    {
     "data": {
      "image/png": "[encoded data removed]",
      "text/plain": [
       "<Figure size 576x360 with 4 Axes>"
      ]
     },
     "metadata": {
      "needs_background": "light"
     },
     "output_type": "display_data"
    }
   ],
   "source": [
    "plt.figure(figsize=(8,5))\n",
    "\n",
    "plt.subplot(2,2,1)\n",
    "plt.boxplot(data[\"EaseofUse\"])\n",
    "plt.title(\"boxplot of Ease of use\")\n",
    "\n",
    "plt.subplot(2,2,2)\n",
    "plt.boxplot(data[\"Effectiveness\"])\n",
    "plt.title(\"boxplot of Effectiveness\")\n",
    "\n",
    "plt.subplot(2,2,3)\n",
    "plt.boxplot(data[\"Satisfaction\"])\n",
    "plt.title(\"boxplot of Satisfaction\")\n",
    "\n",
    "plt.subplot(2,2,4)\n",
    "plt.boxplot(data[\"UsefulCount\"])\n",
    "plt.title(\"boxplot of useful count\")\n",
    "plt.show()"
   ]
  },
  {
   "cell_type": "markdown",
   "id": "d6eb61fe",
   "metadata": {},
   "source": [
    "There are outliers in useful count and ease of use"
   ]
  },
  {
   "cell_type": "code",
   "execution_count": 32,
   "id": "2e6b0c1c",
   "metadata": {},
   "outputs": [
    {
     "name": "stdout",
     "output_type": "stream",
     "text": [
      "lower limit= -8.5\n",
      "upperlimit =  19.5\n"
     ]
    }
   ],
   "source": [
    "Q1=np.percentile(data[\"UsefulCount\"],25,interpolation=\"midpoint\")\n",
    "Q3=np.percentile(data[\"UsefulCount\"],75,interpolation=\"midpoint\")\n",
    "IQR=Q3-Q1\n",
    "low=Q1-(1.5*IQR)\n",
    "upper=Q3+(1.5*IQR)\n",
    "print(\"lower limit=\",low)\n",
    "print(\"upperlimit = \",upper)"
   ]
  },
  {
   "cell_type": "code",
   "execution_count": 33,
   "id": "f5ce1e4c",
   "metadata": {},
   "outputs": [],
   "source": [
    "outlier = []\n",
    "for x in data['UsefulCount']:\n",
    "    if((x>upper)or(x<low)):\n",
    "        outlier.append(x)"
   ]
  },
  {
   "cell_type": "code",
   "execution_count": 34,
   "id": "dc7abfca",
   "metadata": {},
   "outputs": [],
   "source": [
    "data=data.drop(data.loc[data[\"UsefulCount\"]>upper].index)"
   ]
  },
  {
   "cell_type": "code",
   "execution_count": 35,
   "id": "3af7d717",
   "metadata": {},
   "outputs": [
    {
     "data": {
      "text/plain": [
       "{'whiskers': [<matplotlib.lines.Line2D at 0x23c68f1c820>,\n",
       "  <matplotlib.lines.Line2D at 0x23c68f1cb80>],\n",
       " 'caps': [<matplotlib.lines.Line2D at 0x23c68f1cee0>,\n",
       "  <matplotlib.lines.Line2D at 0x23c68f29280>],\n",
       " 'boxes': [<matplotlib.lines.Line2D at 0x23c68f1c4c0>],\n",
       " 'medians': [<matplotlib.lines.Line2D at 0x23c68f295e0>],\n",
       " 'fliers': [<matplotlib.lines.Line2D at 0x23c68f29940>],\n",
       " 'means': []}"
      ]
     },
     "execution_count": 35,
     "metadata": {},
     "output_type": "execute_result"
    },
    {
     "data": {
      "image/png": "[encoded data removed]",
      "text/plain": [
       "<Figure size 432x288 with 1 Axes>"
      ]
     },
     "metadata": {
      "needs_background": "light"
     },
     "output_type": "display_data"
    }
   ],
   "source": [
    "plt.boxplot(data[\"UsefulCount\"])"
   ]
  },
  {
   "cell_type": "markdown",
   "id": "fe35e5bb",
   "metadata": {},
   "source": [
    "Now the outliers in Useful Count is removed."
   ]
  },
  {
   "cell_type": "code",
   "execution_count": 36,
   "id": "8975d014",
   "metadata": {},
   "outputs": [
    {
     "name": "stdout",
     "output_type": "stream",
     "text": [
      "lower limit= 2.5\n",
      "upperlimit =  6.5\n"
     ]
    }
   ],
   "source": [
    "Q1=np.percentile(data[\"EaseofUse\"],25,interpolation=\"midpoint\")\n",
    "Q3=np.percentile(data[\"EaseofUse\"],75,interpolation=\"midpoint\")\n",
    "IQR=Q3-Q1\n",
    "low=Q1-(1.5*IQR)\n",
    "upper=Q3+(1.5*IQR)\n",
    "print(\"lower limit=\",low)\n",
    "print(\"upperlimit = \",upper)"
   ]
  },
  {
   "cell_type": "code",
   "execution_count": 37,
   "id": "ad8fbc3a",
   "metadata": {},
   "outputs": [],
   "source": [
    "outlier = []\n",
    "for x in data['EaseofUse']:\n",
    "    if((x>upper)or(x<low)):\n",
    "        outlier.append(x)"
   ]
  },
  {
   "cell_type": "code",
   "execution_count": 38,
   "id": "9b5b1d91",
   "metadata": {},
   "outputs": [],
   "source": [
    "data=data.drop(data.loc[data[\"EaseofUse\"]>upper].index)\n",
    "data=data.drop(data.loc[data[\"EaseofUse\"]<low].index)"
   ]
  },
  {
   "cell_type": "code",
   "execution_count": 39,
   "id": "4560348d",
   "metadata": {},
   "outputs": [
    {
     "data": {
      "text/plain": [
       "{'whiskers': [<matplotlib.lines.Line2D at 0x23c68f7dca0>,\n",
       "  <matplotlib.lines.Line2D at 0x23c68f89040>],\n",
       " 'caps': [<matplotlib.lines.Line2D at 0x23c68f893a0>,\n",
       "  <matplotlib.lines.Line2D at 0x23c68f89700>],\n",
       " 'boxes': [<matplotlib.lines.Line2D at 0x23c68f7d940>],\n",
       " 'medians': [<matplotlib.lines.Line2D at 0x23c68f89a60>],\n",
       " 'fliers': [<matplotlib.lines.Line2D at 0x23c68f89dc0>],\n",
       " 'means': []}"
      ]
     },
     "execution_count": 39,
     "metadata": {},
     "output_type": "execute_result"
    },
    {
     "data": {
      "image/png": "[encoded data removed]",
      "text/plain": [
       "<Figure size 432x288 with 1 Axes>"
      ]
     },
     "metadata": {
      "needs_background": "light"
     },
     "output_type": "display_data"
    }
   ],
   "source": [
    "plt.boxplot(data[\"EaseofUse\"])"
   ]
  },
  {
   "cell_type": "markdown",
   "id": "e447ca75",
   "metadata": {},
   "source": [
    "Now we have removed all the outliers from the columns useful count and ease of use"
   ]
  },
  {
   "cell_type": "code",
   "execution_count": 40,
   "id": "0237e771",
   "metadata": {},
   "outputs": [
    {
     "data": {
      "text/plain": [
       "(4648, 7)"
      ]
     },
     "execution_count": 40,
     "metadata": {},
     "output_type": "execute_result"
    }
   ],
   "source": [
    "data_cpy.shape"
   ]
  },
  {
   "cell_type": "code",
   "execution_count": 41,
   "id": "1c69a374",
   "metadata": {},
   "outputs": [],
   "source": [
    "#adding index column\n",
    "list2=list(range(3769))\n",
    "data=data.set_index([list2])\n",
    "\n",
    "list3 = list(range(4648))\n",
    "data_cpy=data_cpy.set_index([list3])"
   ]
  },
  {
   "cell_type": "code",
   "execution_count": 42,
   "id": "974098ac",
   "metadata": {},
   "outputs": [
    {
     "data": {
      "text/html": [
       "<div>\n",
       "<style scoped>\n",
       "    .dataframe tbody tr th:only-of-type {\n",
       "        vertical-align: middle;\n",
       "    }\n",
       "\n",
       "    .dataframe tbody tr th {\n",
       "        vertical-align: top;\n",
       "    }\n",
       "\n",
       "    .dataframe thead th {\n",
       "        text-align: right;\n",
       "    }\n",
       "</style>\n",
       "<table border=\"1\" class=\"dataframe\">\n",
       "  <thead>\n",
       "    <tr style=\"text-align: right;\">\n",
       "      <th></th>\n",
       "      <th>Age</th>\n",
       "      <th>Condition</th>\n",
       "      <th>EaseofUse</th>\n",
       "      <th>Effectiveness</th>\n",
       "      <th>Satisfaction</th>\n",
       "      <th>UsefulCount</th>\n",
       "      <th>Sex</th>\n",
       "    </tr>\n",
       "  </thead>\n",
       "  <tbody>\n",
       "    <tr>\n",
       "      <th>0</th>\n",
       "      <td>3-6</td>\n",
       "      <td>Major Depressive Disorder</td>\n",
       "      <td>5</td>\n",
       "      <td>5</td>\n",
       "      <td>5</td>\n",
       "      <td>12</td>\n",
       "      <td>M</td>\n",
       "    </tr>\n",
       "    <tr>\n",
       "      <th>1</th>\n",
       "      <td>45-54</td>\n",
       "      <td>Repeated Episodes of Anxiety</td>\n",
       "      <td>3</td>\n",
       "      <td>1</td>\n",
       "      <td>1</td>\n",
       "      <td>0</td>\n",
       "      <td>M</td>\n",
       "    </tr>\n",
       "    <tr>\n",
       "      <th>2</th>\n",
       "      <td>45-54</td>\n",
       "      <td>Anxiousness associated with Depression</td>\n",
       "      <td>5</td>\n",
       "      <td>5</td>\n",
       "      <td>5</td>\n",
       "      <td>0</td>\n",
       "      <td>M</td>\n",
       "    </tr>\n",
       "    <tr>\n",
       "      <th>3</th>\n",
       "      <td>35-44</td>\n",
       "      <td>Anxiousness associated with Depression</td>\n",
       "      <td>3</td>\n",
       "      <td>3</td>\n",
       "      <td>2</td>\n",
       "      <td>0</td>\n",
       "      <td>M</td>\n",
       "    </tr>\n",
       "    <tr>\n",
       "      <th>4</th>\n",
       "      <td>55-64</td>\n",
       "      <td>Anxiousness associated with Depression</td>\n",
       "      <td>3</td>\n",
       "      <td>3</td>\n",
       "      <td>1</td>\n",
       "      <td>1</td>\n",
       "      <td>M</td>\n",
       "    </tr>\n",
       "  </tbody>\n",
       "</table>\n",
       "</div>"
      ],
      "text/plain": [
       "     Age                               Condition  EaseofUse  Effectiveness  \\\n",
       "0    3-6               Major Depressive Disorder          5              5   \n",
       "1  45-54            Repeated Episodes of Anxiety          3              1   \n",
       "2  45-54  Anxiousness associated with Depression          5              5   \n",
       "3  35-44  Anxiousness associated with Depression          3              3   \n",
       "4  55-64  Anxiousness associated with Depression          3              3   \n",
       "\n",
       "   Satisfaction  UsefulCount Sex  \n",
       "0             5           12   M  \n",
       "1             1            0   M  \n",
       "2             5            0   M  \n",
       "3             2            0   M  \n",
       "4             1            1   M  "
      ]
     },
     "execution_count": 42,
     "metadata": {},
     "output_type": "execute_result"
    }
   ],
   "source": [
    "data.head()"
   ]
  },
  {
   "cell_type": "code",
   "execution_count": 43,
   "id": "1baf6715",
   "metadata": {},
   "outputs": [
    {
     "data": {
      "text/html": [
       "<div>\n",
       "<style scoped>\n",
       "    .dataframe tbody tr th:only-of-type {\n",
       "        vertical-align: middle;\n",
       "    }\n",
       "\n",
       "    .dataframe tbody tr th {\n",
       "        vertical-align: top;\n",
       "    }\n",
       "\n",
       "    .dataframe thead th {\n",
       "        text-align: right;\n",
       "    }\n",
       "</style>\n",
       "<table border=\"1\" class=\"dataframe\">\n",
       "  <thead>\n",
       "    <tr style=\"text-align: right;\">\n",
       "      <th></th>\n",
       "      <th>Age</th>\n",
       "      <th>Condition</th>\n",
       "      <th>EaseofUse</th>\n",
       "      <th>Effectiveness</th>\n",
       "      <th>Satisfaction</th>\n",
       "      <th>UsefulCount</th>\n",
       "      <th>Sex</th>\n",
       "    </tr>\n",
       "  </thead>\n",
       "  <tbody>\n",
       "    <tr>\n",
       "      <th>0</th>\n",
       "      <td>3-6</td>\n",
       "      <td>Major Depressive Disorder</td>\n",
       "      <td>5</td>\n",
       "      <td>5</td>\n",
       "      <td>5</td>\n",
       "      <td>12</td>\n",
       "      <td>M</td>\n",
       "    </tr>\n",
       "    <tr>\n",
       "      <th>1</th>\n",
       "      <td>45-54</td>\n",
       "      <td>Repeated Episodes of Anxiety</td>\n",
       "      <td>3</td>\n",
       "      <td>1</td>\n",
       "      <td>1</td>\n",
       "      <td>0</td>\n",
       "      <td>M</td>\n",
       "    </tr>\n",
       "    <tr>\n",
       "      <th>2</th>\n",
       "      <td>45-54</td>\n",
       "      <td>Anxiousness associated with Depression</td>\n",
       "      <td>5</td>\n",
       "      <td>5</td>\n",
       "      <td>5</td>\n",
       "      <td>0</td>\n",
       "      <td>M</td>\n",
       "    </tr>\n",
       "    <tr>\n",
       "      <th>3</th>\n",
       "      <td>35-44</td>\n",
       "      <td>Anxiousness associated with Depression</td>\n",
       "      <td>3</td>\n",
       "      <td>3</td>\n",
       "      <td>2</td>\n",
       "      <td>0</td>\n",
       "      <td>M</td>\n",
       "    </tr>\n",
       "    <tr>\n",
       "      <th>4</th>\n",
       "      <td>55-64</td>\n",
       "      <td>Chronic Muscle or Bone Pain</td>\n",
       "      <td>2</td>\n",
       "      <td>2</td>\n",
       "      <td>2</td>\n",
       "      <td>1</td>\n",
       "      <td>M</td>\n",
       "    </tr>\n",
       "  </tbody>\n",
       "</table>\n",
       "</div>"
      ],
      "text/plain": [
       "     Age                               Condition  EaseofUse  Effectiveness  \\\n",
       "0    3-6               Major Depressive Disorder          5              5   \n",
       "1  45-54            Repeated Episodes of Anxiety          3              1   \n",
       "2  45-54  Anxiousness associated with Depression          5              5   \n",
       "3  35-44  Anxiousness associated with Depression          3              3   \n",
       "4  55-64             Chronic Muscle or Bone Pain          2              2   \n",
       "\n",
       "   Satisfaction  UsefulCount Sex  \n",
       "0             5           12   M  \n",
       "1             1            0   M  \n",
       "2             5            0   M  \n",
       "3             2            0   M  \n",
       "4             2            1   M  "
      ]
     },
     "execution_count": 43,
     "metadata": {},
     "output_type": "execute_result"
    }
   ],
   "source": [
    "data_cpy.head()"
   ]
  },
  {
   "cell_type": "markdown",
   "id": "76b0e3ff",
   "metadata": {},
   "source": [
    "## Recoding the values of Effectiveness to a categorical values."
   ]
  },
  {
   "cell_type": "code",
   "execution_count": 44,
   "id": "4cefdf21",
   "metadata": {},
   "outputs": [],
   "source": [
    "data['Effectiveness'].replace(to_replace = [1], value =['extreme severe side effects'], inplace = True)\n",
    "\n",
    "data_cpy['Effectiveness'].replace(to_replace = [1], value =['extreme severe side effects'], inplace = True)\n",
    "data['Effectiveness'].replace(to_replace = [2], value =['severe side effects'], inplace = True)\n",
    "\n",
    "data_cpy['Effectiveness'].replace(to_replace = [2], value =['severe side effects'], inplace = True)\n",
    "data['Effectiveness'].replace(to_replace = [3], value =['moderate side effects'], inplace = True)\n",
    "\n",
    "data_cpy['Effectiveness'].replace(to_replace = [3], value =['moderate side effects'], inplace = True)\n",
    "data['Effectiveness'].replace(to_replace = [4], value =['mild side effects'], inplace = True)\n",
    "\n",
    "data_cpy['Effectiveness'].replace(to_replace = [4], value =['mild side effects'], inplace = True)\n",
    "data['Effectiveness'].replace(to_replace = [5], value =['no side effects'], inplace = True)\n",
    "\n",
    "data_cpy['Effectiveness'].replace(to_replace = [5], value =['no side effects'], inplace = True)"
   ]
  },
  {
   "cell_type": "code",
   "execution_count": 45,
   "id": "8c4e48df",
   "metadata": {},
   "outputs": [
    {
     "data": {
      "text/html": [
       "<div>\n",
       "<style scoped>\n",
       "    .dataframe tbody tr th:only-of-type {\n",
       "        vertical-align: middle;\n",
       "    }\n",
       "\n",
       "    .dataframe tbody tr th {\n",
       "        vertical-align: top;\n",
       "    }\n",
       "\n",
       "    .dataframe thead th {\n",
       "        text-align: right;\n",
       "    }\n",
       "</style>\n",
       "<table border=\"1\" class=\"dataframe\">\n",
       "  <thead>\n",
       "    <tr style=\"text-align: right;\">\n",
       "      <th></th>\n",
       "      <th>Age</th>\n",
       "      <th>Condition</th>\n",
       "      <th>EaseofUse</th>\n",
       "      <th>Effectiveness</th>\n",
       "      <th>Satisfaction</th>\n",
       "      <th>UsefulCount</th>\n",
       "      <th>Sex</th>\n",
       "    </tr>\n",
       "  </thead>\n",
       "  <tbody>\n",
       "    <tr>\n",
       "      <th>0</th>\n",
       "      <td>3-6</td>\n",
       "      <td>Major Depressive Disorder</td>\n",
       "      <td>5</td>\n",
       "      <td>no side effects</td>\n",
       "      <td>5</td>\n",
       "      <td>12</td>\n",
       "      <td>M</td>\n",
       "    </tr>\n",
       "    <tr>\n",
       "      <th>1</th>\n",
       "      <td>45-54</td>\n",
       "      <td>Repeated Episodes of Anxiety</td>\n",
       "      <td>3</td>\n",
       "      <td>extreme severe side effects</td>\n",
       "      <td>1</td>\n",
       "      <td>0</td>\n",
       "      <td>M</td>\n",
       "    </tr>\n",
       "    <tr>\n",
       "      <th>2</th>\n",
       "      <td>45-54</td>\n",
       "      <td>Anxiousness associated with Depression</td>\n",
       "      <td>5</td>\n",
       "      <td>no side effects</td>\n",
       "      <td>5</td>\n",
       "      <td>0</td>\n",
       "      <td>M</td>\n",
       "    </tr>\n",
       "    <tr>\n",
       "      <th>3</th>\n",
       "      <td>35-44</td>\n",
       "      <td>Anxiousness associated with Depression</td>\n",
       "      <td>3</td>\n",
       "      <td>moderate side effects</td>\n",
       "      <td>2</td>\n",
       "      <td>0</td>\n",
       "      <td>M</td>\n",
       "    </tr>\n",
       "    <tr>\n",
       "      <th>4</th>\n",
       "      <td>55-64</td>\n",
       "      <td>Anxiousness associated with Depression</td>\n",
       "      <td>3</td>\n",
       "      <td>moderate side effects</td>\n",
       "      <td>1</td>\n",
       "      <td>1</td>\n",
       "      <td>M</td>\n",
       "    </tr>\n",
       "  </tbody>\n",
       "</table>\n",
       "</div>"
      ],
      "text/plain": [
       "     Age                               Condition  EaseofUse  \\\n",
       "0    3-6               Major Depressive Disorder          5   \n",
       "1  45-54            Repeated Episodes of Anxiety          3   \n",
       "2  45-54  Anxiousness associated with Depression          5   \n",
       "3  35-44  Anxiousness associated with Depression          3   \n",
       "4  55-64  Anxiousness associated with Depression          3   \n",
       "\n",
       "                 Effectiveness  Satisfaction  UsefulCount Sex  \n",
       "0              no side effects             5           12   M  \n",
       "1  extreme severe side effects             1            0   M  \n",
       "2              no side effects             5            0   M  \n",
       "3        moderate side effects             2            0   M  \n",
       "4        moderate side effects             1            1   M  "
      ]
     },
     "execution_count": 45,
     "metadata": {},
     "output_type": "execute_result"
    }
   ],
   "source": [
    "data.head()"
   ]
  },
  {
   "cell_type": "code",
   "execution_count": 46,
   "id": "d589b0e6",
   "metadata": {},
   "outputs": [
    {
     "data": {
      "text/html": [
       "<div>\n",
       "<style scoped>\n",
       "    .dataframe tbody tr th:only-of-type {\n",
       "        vertical-align: middle;\n",
       "    }\n",
       "\n",
       "    .dataframe tbody tr th {\n",
       "        vertical-align: top;\n",
       "    }\n",
       "\n",
       "    .dataframe thead th {\n",
       "        text-align: right;\n",
       "    }\n",
       "</style>\n",
       "<table border=\"1\" class=\"dataframe\">\n",
       "  <thead>\n",
       "    <tr style=\"text-align: right;\">\n",
       "      <th></th>\n",
       "      <th>Age</th>\n",
       "      <th>Condition</th>\n",
       "      <th>EaseofUse</th>\n",
       "      <th>Effectiveness</th>\n",
       "      <th>Satisfaction</th>\n",
       "      <th>UsefulCount</th>\n",
       "      <th>Sex</th>\n",
       "    </tr>\n",
       "  </thead>\n",
       "  <tbody>\n",
       "    <tr>\n",
       "      <th>0</th>\n",
       "      <td>3-6</td>\n",
       "      <td>Major Depressive Disorder</td>\n",
       "      <td>5</td>\n",
       "      <td>no side effects</td>\n",
       "      <td>5</td>\n",
       "      <td>12</td>\n",
       "      <td>M</td>\n",
       "    </tr>\n",
       "    <tr>\n",
       "      <th>1</th>\n",
       "      <td>45-54</td>\n",
       "      <td>Repeated Episodes of Anxiety</td>\n",
       "      <td>3</td>\n",
       "      <td>extreme severe side effects</td>\n",
       "      <td>1</td>\n",
       "      <td>0</td>\n",
       "      <td>M</td>\n",
       "    </tr>\n",
       "    <tr>\n",
       "      <th>2</th>\n",
       "      <td>45-54</td>\n",
       "      <td>Anxiousness associated with Depression</td>\n",
       "      <td>5</td>\n",
       "      <td>no side effects</td>\n",
       "      <td>5</td>\n",
       "      <td>0</td>\n",
       "      <td>M</td>\n",
       "    </tr>\n",
       "    <tr>\n",
       "      <th>3</th>\n",
       "      <td>35-44</td>\n",
       "      <td>Anxiousness associated with Depression</td>\n",
       "      <td>3</td>\n",
       "      <td>moderate side effects</td>\n",
       "      <td>2</td>\n",
       "      <td>0</td>\n",
       "      <td>M</td>\n",
       "    </tr>\n",
       "    <tr>\n",
       "      <th>4</th>\n",
       "      <td>55-64</td>\n",
       "      <td>Chronic Muscle or Bone Pain</td>\n",
       "      <td>2</td>\n",
       "      <td>severe side effects</td>\n",
       "      <td>2</td>\n",
       "      <td>1</td>\n",
       "      <td>M</td>\n",
       "    </tr>\n",
       "  </tbody>\n",
       "</table>\n",
       "</div>"
      ],
      "text/plain": [
       "     Age                               Condition  EaseofUse  \\\n",
       "0    3-6               Major Depressive Disorder          5   \n",
       "1  45-54            Repeated Episodes of Anxiety          3   \n",
       "2  45-54  Anxiousness associated with Depression          5   \n",
       "3  35-44  Anxiousness associated with Depression          3   \n",
       "4  55-64             Chronic Muscle or Bone Pain          2   \n",
       "\n",
       "                 Effectiveness  Satisfaction  UsefulCount Sex  \n",
       "0              no side effects             5           12   M  \n",
       "1  extreme severe side effects             1            0   M  \n",
       "2              no side effects             5            0   M  \n",
       "3        moderate side effects             2            0   M  \n",
       "4          severe side effects             2            1   M  "
      ]
     },
     "execution_count": 46,
     "metadata": {},
     "output_type": "execute_result"
    }
   ],
   "source": [
    "data_cpy.head()"
   ]
  },
  {
   "cell_type": "markdown",
   "id": "3efa61aa",
   "metadata": {},
   "source": [
    "# VISUALIZATION"
   ]
  },
  {
   "cell_type": "markdown",
   "id": "87077a98",
   "metadata": {},
   "source": [
    "## Catplot of Satisfaction with respect to Sex column"
   ]
  },
  {
   "cell_type": "code",
   "execution_count": 47,
   "id": "e2c7769e",
   "metadata": {},
   "outputs": [
    {
     "data": {
      "text/plain": [
       "<Figure size 1080x1440 with 0 Axes>"
      ]
     },
     "metadata": {},
     "output_type": "display_data"
    },
    {
     "data": {
      "image/png": "[encoded data removed]",
      "text/plain": [
       "<Figure size 777.6x432 with 2 Axes>"
      ]
     },
     "metadata": {
      "needs_background": "light"
     },
     "output_type": "display_data"
    }
   ],
   "source": [
    "plt.figure(figsize=(15,20))\n",
    "g = sns.catplot(x=\"Satisfaction\",col=\"Sex\",\n",
    "                data=data, kind=\"count\",\n",
    "                height=6,aspect =.9);"
   ]
  },
  {
   "cell_type": "markdown",
   "id": "b34ec74e",
   "metadata": {},
   "source": [
    "## Pie chart of Percentage of Effectiveness."
   ]
  },
  {
   "cell_type": "code",
   "execution_count": 48,
   "id": "fa4b9d51",
   "metadata": {},
   "outputs": [
    {
     "data": {
      "image/png": "[encoded data removed]",
      "text/plain": [
       "<Figure size 720x432 with 1 Axes>"
      ]
     },
     "metadata": {},
     "output_type": "display_data"
    }
   ],
   "source": [
    "plt.figure(figsize=(10,6))\n",
    "plt.title('% of EFFECTIVENESS')\n",
    "tr = pd.DataFrame(data['Effectiveness'].value_counts())\n",
    "tr_names = tr.index\n",
    "count = tr['Effectiveness']\n",
    "plt.style.use('ggplot')\n",
    "plt.rc('font', size=12)\n",
    "plt.pie(count, autopct='%1.1f%%', labels = tr_names, pctdistance=0.9, labeldistance=1.1,shadow=True, startangle=90)\n",
    "\n",
    "plt.show()"
   ]
  },
  {
   "cell_type": "markdown",
   "id": "43fcb0c1",
   "metadata": {},
   "source": [
    "## Pie Chart of Percentage of different conditions of People"
   ]
  },
  {
   "cell_type": "code",
   "execution_count": 49,
   "id": "bf698e81",
   "metadata": {},
   "outputs": [
    {
     "data": {
      "image/png": "[encoded data removed]",
      "text/plain": [
       "<Figure size 1080x648 with 1 Axes>"
      ]
     },
     "metadata": {},
     "output_type": "display_data"
    }
   ],
   "source": [
    "plt.figure(figsize=(15,9))\n",
    "plt.title('% of different Conditions of People')\n",
    "tr = pd.DataFrame(data['Condition'].value_counts())\n",
    "tr_names = tr.index\n",
    "count = tr['Condition']\n",
    "plt.style.use('ggplot')\n",
    "plt.rc('font', size=12)\n",
    "plt.pie(count, autopct='%1.1f%%', labels = tr_names, pctdistance=0.9, labeldistance=1.1)\n",
    "\n",
    "plt.show()"
   ]
  },
  {
   "cell_type": "markdown",
   "id": "9a005f42",
   "metadata": {},
   "source": [
    "## Count plot of various Age groups taken for this and their sex is displayed below."
   ]
  },
  {
   "cell_type": "code",
   "execution_count": 50,
   "id": "47fec73f",
   "metadata": {},
   "outputs": [
    {
     "data": {
      "text/plain": [
       "<module 'matplotlib.pyplot' from 'C:\\\\Users\\\\aso38049\\\\Anaconda3\\\\lib\\\\site-packages\\\\matplotlib\\\\pyplot.py'>"
      ]
     },
     "execution_count": 50,
     "metadata": {},
     "output_type": "execute_result"
    },
    {
     "data": {
      "image/png": "[encoded data removed]",
      "text/plain": [
       "<Figure size 1152x432 with 1 Axes>"
      ]
     },
     "metadata": {},
     "output_type": "display_data"
    }
   ],
   "source": [
    "plt.figure(figsize=(16, 6))\n",
    "ax = sns.countplot(x=\"Age\",hue = \"Sex\" ,edgecolor=sns.color_palette(\"dark\", 5),data=data,\n",
    "                   linewidth=5,)\n",
    "plt"
   ]
  },
  {
   "cell_type": "markdown",
   "id": "efa165a6",
   "metadata": {},
   "source": [
    "## Effect of Drug on Age group 45-54(most commonly used by)\n"
   ]
  },
  {
   "cell_type": "code",
   "execution_count": 51,
   "id": "783f1b72",
   "metadata": {},
   "outputs": [
    {
     "data": {
      "image/png": "[encoded data removed]",
      "text/plain": [
       "<Figure size 432x432 with 1 Axes>"
      ]
     },
     "metadata": {},
     "output_type": "display_data"
    }
   ],
   "source": [
    "dt=data.loc[(data['Age']==\"45-54\")]\n",
    "tr = pd.DataFrame(dt['Effectiveness'].value_counts())\n",
    "tr_names = tr.index\n",
    "count=tr['Effectiveness']\n",
    "\n",
    "plt.style.use('ggplot')\n",
    "plt.figure(figsize=(6,6))\n",
    "plt.rc('font', size=10)\n",
    "plt.pie(count, autopct='%1.0f%%', labels = tr_names, pctdistance=1.1, labeldistance=1.2)\n",
    "plt.title('% of patients having side effects in age group 45-54')\n",
    "plt.show()"
   ]
  },
  {
   "cell_type": "markdown",
   "id": "27dd02b1",
   "metadata": {},
   "source": [
    "## Label encoding"
   ]
  },
  {
   "cell_type": "code",
   "execution_count": 52,
   "id": "7e0ba01a",
   "metadata": {},
   "outputs": [],
   "source": [
    "from sklearn.preprocessing import LabelEncoder\n",
    "label=LabelEncoder()\n",
    "for col in [\"Age\",\"Condition\",\"Sex\"]:\n",
    "    data[col]=label.fit_transform(data[col])\n",
    "    data_cpy[col]=label.fit_transform(data_cpy[col])\n",
    "datastand=data"
   ]
  },
  {
   "cell_type": "code",
   "execution_count": 53,
   "id": "093ddbb4",
   "metadata": {},
   "outputs": [
    {
     "data": {
      "text/html": [
       "<div>\n",
       "<style scoped>\n",
       "    .dataframe tbody tr th:only-of-type {\n",
       "        vertical-align: middle;\n",
       "    }\n",
       "\n",
       "    .dataframe tbody tr th {\n",
       "        vertical-align: top;\n",
       "    }\n",
       "\n",
       "    .dataframe thead th {\n",
       "        text-align: right;\n",
       "    }\n",
       "</style>\n",
       "<table border=\"1\" class=\"dataframe\">\n",
       "  <thead>\n",
       "    <tr style=\"text-align: right;\">\n",
       "      <th></th>\n",
       "      <th>Age</th>\n",
       "      <th>Condition</th>\n",
       "      <th>EaseofUse</th>\n",
       "      <th>Effectiveness</th>\n",
       "      <th>Satisfaction</th>\n",
       "      <th>UsefulCount</th>\n",
       "      <th>Sex</th>\n",
       "    </tr>\n",
       "  </thead>\n",
       "  <tbody>\n",
       "    <tr>\n",
       "      <th>0</th>\n",
       "      <td>4</td>\n",
       "      <td>4</td>\n",
       "      <td>5</td>\n",
       "      <td>no side effects</td>\n",
       "      <td>5</td>\n",
       "      <td>12</td>\n",
       "      <td>1</td>\n",
       "    </tr>\n",
       "    <tr>\n",
       "      <th>1</th>\n",
       "      <td>6</td>\n",
       "      <td>7</td>\n",
       "      <td>3</td>\n",
       "      <td>extreme severe side effects</td>\n",
       "      <td>1</td>\n",
       "      <td>0</td>\n",
       "      <td>1</td>\n",
       "    </tr>\n",
       "    <tr>\n",
       "      <th>2</th>\n",
       "      <td>6</td>\n",
       "      <td>0</td>\n",
       "      <td>5</td>\n",
       "      <td>no side effects</td>\n",
       "      <td>5</td>\n",
       "      <td>0</td>\n",
       "      <td>1</td>\n",
       "    </tr>\n",
       "    <tr>\n",
       "      <th>3</th>\n",
       "      <td>5</td>\n",
       "      <td>0</td>\n",
       "      <td>3</td>\n",
       "      <td>moderate side effects</td>\n",
       "      <td>2</td>\n",
       "      <td>0</td>\n",
       "      <td>1</td>\n",
       "    </tr>\n",
       "    <tr>\n",
       "      <th>4</th>\n",
       "      <td>7</td>\n",
       "      <td>0</td>\n",
       "      <td>3</td>\n",
       "      <td>moderate side effects</td>\n",
       "      <td>1</td>\n",
       "      <td>1</td>\n",
       "      <td>1</td>\n",
       "    </tr>\n",
       "  </tbody>\n",
       "</table>\n",
       "</div>"
      ],
      "text/plain": [
       "   Age  Condition  EaseofUse                Effectiveness  Satisfaction  \\\n",
       "0    4          4          5              no side effects             5   \n",
       "1    6          7          3  extreme severe side effects             1   \n",
       "2    6          0          5              no side effects             5   \n",
       "3    5          0          3        moderate side effects             2   \n",
       "4    7          0          3        moderate side effects             1   \n",
       "\n",
       "   UsefulCount  Sex  \n",
       "0           12    1  \n",
       "1            0    1  \n",
       "2            0    1  \n",
       "3            0    1  \n",
       "4            1    1  "
      ]
     },
     "execution_count": 53,
     "metadata": {},
     "output_type": "execute_result"
    }
   ],
   "source": [
    "data.head()"
   ]
  },
  {
   "cell_type": "markdown",
   "id": "2e211360",
   "metadata": {},
   "source": [
    "## Data splitting:"
   ]
  },
  {
   "cell_type": "code",
   "execution_count": 54,
   "id": "9188100e",
   "metadata": {},
   "outputs": [],
   "source": [
    "y=data['Effectiveness']\n",
    "x=data.drop(['Effectiveness'],axis=1)\n",
    "x1=x\n",
    "x2=x\n",
    "\n",
    "ycp=data_cpy['Effectiveness']\n",
    "xcp=data_cpy.drop(['Effectiveness'],axis=1)"
   ]
  },
  {
   "cell_type": "code",
   "execution_count": 55,
   "id": "13c02949",
   "metadata": {},
   "outputs": [],
   "source": [
    "from sklearn.model_selection import train_test_split\n",
    "x_train,x_test,y_train,y_test=train_test_split(x,y,random_state=42,test_size=0.1)\n",
    "\n",
    "\n",
    "\n",
    "xcp_train,xcp_test,ycp_train,ycp_test=train_test_split(xcp,ycp,random_state=42,test_size=0.1)"
   ]
  },
  {
   "cell_type": "markdown",
   "id": "b81bce07",
   "metadata": {},
   "source": [
    "## Model Selection"
   ]
  },
  {
   "cell_type": "markdown",
   "id": "ef71913d",
   "metadata": {},
   "source": [
    "## KNN"
   ]
  },
  {
   "cell_type": "code",
   "execution_count": 56,
   "id": "9a69306b",
   "metadata": {},
   "outputs": [
    {
     "name": "stdout",
     "output_type": "stream",
     "text": [
      "accuracy is 0.5411140583554377\n",
      "confusion matrix is [[39  2 10  1  2]\n",
      " [ 7 47 16 24  1]\n",
      " [14 31 27  3  6]\n",
      " [ 2 17  4 90  2]\n",
      " [17  4  8  2  1]]\n"
     ]
    }
   ],
   "source": [
    "from sklearn.neighbors import KNeighborsClassifier\n",
    "from sklearn.metrics import accuracy_score,precision_score,f1_score,confusion_matrix\n",
    "classifier=KNeighborsClassifier(n_neighbors=5, metric='minkowski')\n",
    "classifier.fit(x_train,y_train)\n",
    "y_pred=classifier.predict(x_test)\n",
    "acc=accuracy_score(y_test,y_pred)\n",
    "print(\"accuracy is\",accuracy_score(y_test,y_pred))\n",
    "print(\"confusion matrix is\",confusion_matrix(y_test,y_pred))"
   ]
  },
  {
   "cell_type": "markdown",
   "id": "a59e69fd",
   "metadata": {},
   "source": [
    "## Decision Tree"
   ]
  },
  {
   "cell_type": "code",
   "execution_count": 57,
   "id": "695a0edd",
   "metadata": {},
   "outputs": [
    {
     "name": "stdout",
     "output_type": "stream",
     "text": [
      "accuracy is 0.519893899204244\n",
      "confusion matrix is [[31  5 11  3  4]\n",
      " [ 4 43 18 26  4]\n",
      " [12 28 29  6  6]\n",
      " [ 2 21  5 86  1]\n",
      " [13  2  8  2  7]]\n"
     ]
    }
   ],
   "source": [
    "from sklearn.tree import DecisionTreeClassifier\n",
    "decision=DecisionTreeClassifier()\n",
    "decision.fit(x_train,y_train)\n",
    "y_decision=decision.predict(x_test)\n",
    "\n",
    "print(\"accuracy is\",accuracy_score(y_test,y_decision))\n",
    "print(\"confusion matrix is\",confusion_matrix(y_test,y_decision))"
   ]
  },
  {
   "cell_type": "markdown",
   "id": "54c98c2a",
   "metadata": {},
   "source": [
    "## Gradient Boosting"
   ]
  },
  {
   "cell_type": "code",
   "execution_count": 58,
   "id": "6193fbe3",
   "metadata": {},
   "outputs": [
    {
     "name": "stdout",
     "output_type": "stream",
     "text": [
      "accuracy is 0.6206896551724138\n",
      "confusion matrix is [[45  1  4  1  3]\n",
      " [ 6 48 18 22  1]\n",
      " [13 18 45  1  4]\n",
      " [ 3 11  8 93  0]\n",
      " [15  1 12  1  3]]\n"
     ]
    }
   ],
   "source": [
    "from sklearn.ensemble import GradientBoostingClassifier\n",
    "grad=GradientBoostingClassifier()\n",
    "grad.fit(x_train,y_train)\n",
    "y_grad=grad.predict(x_test)\n",
    "\n",
    "print(\"accuracy is\",accuracy_score(y_test,y_grad))\n",
    "print(\"confusion matrix is\",confusion_matrix(y_test,y_grad))"
   ]
  },
  {
   "cell_type": "code",
   "execution_count": 63,
   "id": "e8b39331",
   "metadata": {},
   "outputs": [
    {
     "name": "stdout",
     "output_type": "stream",
     "text": [
      "accuracy is 0.5384615384615384\n",
      "confusion matrix is [[ 50   0   1   3   0]\n",
      " [  7  30   7  51   0]\n",
      " [ 14  28  17  22   0]\n",
      " [  3   6   0 106   0]\n",
      " [ 16   2  12   2   0]]\n"
     ]
    }
   ],
   "source": [
    "from sklearn.svm import LinearSVC\n",
    "support=LinearSVC()\n",
    "support.fit(x_train,y_train)\n",
    "y_support=support.predict(x_test)\n",
    "print(\"accuracy is\",accuracy_score(y_test,y_support))\n",
    "print(\"confusion matrix is\",confusion_matrix(y_test,y_support))"
   ]
  },
  {
   "cell_type": "markdown",
   "id": "3a8cbdc1",
   "metadata": {},
   "source": [
    "## Random Forest"
   ]
  },
  {
   "cell_type": "code",
   "execution_count": 60,
   "id": "b09eb503",
   "metadata": {},
   "outputs": [
    {
     "name": "stdout",
     "output_type": "stream",
     "text": [
      "accuracy is 0.5464190981432361\n",
      "confusion matrix is [[34  1 10  3  6]\n",
      " [ 5 45 18 24  3]\n",
      " [ 9 25 33  5  9]\n",
      " [ 3 14  7 90  1]\n",
      " [12  2 12  2  4]]\n"
     ]
    }
   ],
   "source": [
    "from sklearn.ensemble import RandomForestClassifier\n",
    "rand=RandomForestClassifier()\n",
    "rand.fit(x_train,y_train)\n",
    "y_rand=rand.predict(x_test)\n",
    "print(\"accuracy is\",accuracy_score(y_test,y_rand))\n",
    "print(\"confusion matrix is\",confusion_matrix(y_test,y_rand))"
   ]
  },
  {
   "cell_type": "code",
   "execution_count": null,
   "id": "fbe955c1",
   "metadata": {},
   "outputs": [],
   "source": []
  }
 ],
 "metadata": {
  "kernelspec": {
   "display_name": "Python 3",
   "language": "python",
   "name": "python3"
  },
  "language_info": {
   "codemirror_mode": {
    "name": "ipython",
    "version": 3
   },
   "file_extension": ".py",
   "mimetype": "text/x-python",
   "name": "python",
   "nbconvert_exporter": "python",
   "pygments_lexer": "ipython3",
   "version": "3.8.8"
  }
 },
 "nbformat": 4,
 "nbformat_minor": 5
}
