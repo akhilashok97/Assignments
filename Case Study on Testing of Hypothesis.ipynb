{
 "cells": [
  {
   "cell_type": "markdown",
   "id": "2f4ef666",
   "metadata": {},
   "source": [
    "# Case Study on Testing of Hypothesis"
   ]
  },
  {
   "cell_type": "markdown",
   "id": "7d3fd732",
   "metadata": {},
   "source": [
    "A company started to invest in digital marketing as a new way of their product promotions.For that they collected data and decided to carry out a study on it. \n",
    "\n",
    "● The company wishes to clarify whether there is any increase in sales after stepping into digital marketing.\n",
    "\n",
    "● The company needs to check whether there is any dependency between the features “Region” and “Manager”. \n",
    "\n",
    "Help the company to carry out their study with the help of data provided"
   ]
  },
  {
   "cell_type": "markdown",
   "id": "d31c517b",
   "metadata": {},
   "source": [
    "## Importing the libraries needed"
   ]
  },
  {
   "cell_type": "code",
   "execution_count": 1,
   "id": "908ff2db",
   "metadata": {},
   "outputs": [],
   "source": [
    "import pandas as pd\n",
    "import numpy as np\n",
    "import matplotlib.pyplot as plt\n",
    "import seaborn as sns\n",
    "import warnings \n",
    "warnings.filterwarnings('ignore')"
   ]
  },
  {
   "cell_type": "markdown",
   "id": "021f83d9",
   "metadata": {},
   "source": [
    "## Reading the dataset to the python environment"
   ]
  },
  {
   "cell_type": "code",
   "execution_count": 2,
   "id": "3d752bf1",
   "metadata": {},
   "outputs": [],
   "source": [
    "data= pd.read_csv('Sales_add.csv')"
   ]
  },
  {
   "cell_type": "markdown",
   "id": "a7bd8321",
   "metadata": {},
   "source": [
    "### Preprocessing"
   ]
  },
  {
   "cell_type": "code",
   "execution_count": 3,
   "id": "2c478cc3",
   "metadata": {},
   "outputs": [
    {
     "data": {
      "text/html": [
       "<div>\n",
       "<style scoped>\n",
       "    .dataframe tbody tr th:only-of-type {\n",
       "        vertical-align: middle;\n",
       "    }\n",
       "\n",
       "    .dataframe tbody tr th {\n",
       "        vertical-align: top;\n",
       "    }\n",
       "\n",
       "    .dataframe thead th {\n",
       "        text-align: right;\n",
       "    }\n",
       "</style>\n",
       "<table border=\"1\" class=\"dataframe\">\n",
       "  <thead>\n",
       "    <tr style=\"text-align: right;\">\n",
       "      <th></th>\n",
       "      <th>Month</th>\n",
       "      <th>Region</th>\n",
       "      <th>Manager</th>\n",
       "      <th>Sales_before_digital_add(in $)</th>\n",
       "      <th>Sales_After_digital_add(in $)</th>\n",
       "    </tr>\n",
       "  </thead>\n",
       "  <tbody>\n",
       "    <tr>\n",
       "      <th>0</th>\n",
       "      <td>Month-1</td>\n",
       "      <td>Region - A</td>\n",
       "      <td>Manager - A</td>\n",
       "      <td>132921</td>\n",
       "      <td>270390</td>\n",
       "    </tr>\n",
       "    <tr>\n",
       "      <th>1</th>\n",
       "      <td>Month-2</td>\n",
       "      <td>Region - A</td>\n",
       "      <td>Manager - C</td>\n",
       "      <td>149559</td>\n",
       "      <td>223334</td>\n",
       "    </tr>\n",
       "    <tr>\n",
       "      <th>2</th>\n",
       "      <td>Month-3</td>\n",
       "      <td>Region - B</td>\n",
       "      <td>Manager - A</td>\n",
       "      <td>146278</td>\n",
       "      <td>244243</td>\n",
       "    </tr>\n",
       "    <tr>\n",
       "      <th>3</th>\n",
       "      <td>Month-4</td>\n",
       "      <td>Region - B</td>\n",
       "      <td>Manager - B</td>\n",
       "      <td>152167</td>\n",
       "      <td>231808</td>\n",
       "    </tr>\n",
       "    <tr>\n",
       "      <th>4</th>\n",
       "      <td>Month-5</td>\n",
       "      <td>Region - C</td>\n",
       "      <td>Manager - B</td>\n",
       "      <td>159525</td>\n",
       "      <td>258402</td>\n",
       "    </tr>\n",
       "  </tbody>\n",
       "</table>\n",
       "</div>"
      ],
      "text/plain": [
       "     Month      Region      Manager  Sales_before_digital_add(in $)  \\\n",
       "0  Month-1  Region - A  Manager - A                          132921   \n",
       "1  Month-2  Region - A  Manager - C                          149559   \n",
       "2  Month-3  Region - B  Manager - A                          146278   \n",
       "3  Month-4  Region - B  Manager - B                          152167   \n",
       "4  Month-5  Region - C  Manager - B                          159525   \n",
       "\n",
       "   Sales_After_digital_add(in $)  \n",
       "0                         270390  \n",
       "1                         223334  \n",
       "2                         244243  \n",
       "3                         231808  \n",
       "4                         258402  "
      ]
     },
     "execution_count": 3,
     "metadata": {},
     "output_type": "execute_result"
    }
   ],
   "source": [
    "data.head()\n",
    "##checking whether the dataset is loaded properly"
   ]
  },
  {
   "cell_type": "markdown",
   "id": "02b13146",
   "metadata": {},
   "source": [
    "The given dataset is loaded properly"
   ]
  },
  {
   "cell_type": "code",
   "execution_count": 4,
   "id": "54b282f8",
   "metadata": {},
   "outputs": [
    {
     "data": {
      "text/plain": [
       "(22, 5)"
      ]
     },
     "execution_count": 4,
     "metadata": {},
     "output_type": "execute_result"
    }
   ],
   "source": [
    "data.shape\n",
    "##checking the shape of the dataset"
   ]
  },
  {
   "cell_type": "markdown",
   "id": "4df88817",
   "metadata": {},
   "source": [
    "The given dataset consist of 22 rows and 5 columns"
   ]
  },
  {
   "cell_type": "code",
   "execution_count": 5,
   "id": "f979f9fd",
   "metadata": {},
   "outputs": [
    {
     "name": "stdout",
     "output_type": "stream",
     "text": [
      "<class 'pandas.core.frame.DataFrame'>\n",
      "RangeIndex: 22 entries, 0 to 21\n",
      "Data columns (total 5 columns):\n",
      " #   Column                          Non-Null Count  Dtype \n",
      "---  ------                          --------------  ----- \n",
      " 0   Month                           22 non-null     object\n",
      " 1   Region                          22 non-null     object\n",
      " 2   Manager                         22 non-null     object\n",
      " 3   Sales_before_digital_add(in $)  22 non-null     int64 \n",
      " 4   Sales_After_digital_add(in $)   22 non-null     int64 \n",
      "dtypes: int64(2), object(3)\n",
      "memory usage: 1008.0+ bytes\n"
     ]
    }
   ],
   "source": [
    "data.info()\n",
    "##to get the basic information of the data"
   ]
  },
  {
   "cell_type": "markdown",
   "id": "22d76d53",
   "metadata": {},
   "source": [
    "it consist of 2 integer datatype columns and 3 object type datatype column"
   ]
  },
  {
   "cell_type": "code",
   "execution_count": 6,
   "id": "027a2157",
   "metadata": {},
   "outputs": [
    {
     "data": {
      "text/plain": [
       "Month                             0\n",
       "Region                            0\n",
       "Manager                           0\n",
       "Sales_before_digital_add(in $)    0\n",
       "Sales_After_digital_add(in $)     0\n",
       "dtype: int64"
      ]
     },
     "execution_count": 6,
     "metadata": {},
     "output_type": "execute_result"
    }
   ],
   "source": [
    "data.isna().sum()\n",
    "##Checking for any null values present in the dataset "
   ]
  },
  {
   "cell_type": "markdown",
   "id": "9091d7e4",
   "metadata": {},
   "source": [
    "There are no null values present in the dataset"
   ]
  },
  {
   "cell_type": "code",
   "execution_count": 7,
   "id": "42c7fac0",
   "metadata": {},
   "outputs": [
    {
     "data": {
      "text/html": [
       "<div>\n",
       "<style scoped>\n",
       "    .dataframe tbody tr th:only-of-type {\n",
       "        vertical-align: middle;\n",
       "    }\n",
       "\n",
       "    .dataframe tbody tr th {\n",
       "        vertical-align: top;\n",
       "    }\n",
       "\n",
       "    .dataframe thead th {\n",
       "        text-align: right;\n",
       "    }\n",
       "</style>\n",
       "<table border=\"1\" class=\"dataframe\">\n",
       "  <thead>\n",
       "    <tr style=\"text-align: right;\">\n",
       "      <th></th>\n",
       "      <th>Sales_before_digital_add(in $)</th>\n",
       "      <th>Sales_After_digital_add(in $)</th>\n",
       "    </tr>\n",
       "  </thead>\n",
       "  <tbody>\n",
       "    <tr>\n",
       "      <th>count</th>\n",
       "      <td>22.000000</td>\n",
       "      <td>22.000000</td>\n",
       "    </tr>\n",
       "    <tr>\n",
       "      <th>mean</th>\n",
       "      <td>149239.954545</td>\n",
       "      <td>231123.727273</td>\n",
       "    </tr>\n",
       "    <tr>\n",
       "      <th>std</th>\n",
       "      <td>14844.042921</td>\n",
       "      <td>25556.777061</td>\n",
       "    </tr>\n",
       "    <tr>\n",
       "      <th>min</th>\n",
       "      <td>130263.000000</td>\n",
       "      <td>187305.000000</td>\n",
       "    </tr>\n",
       "    <tr>\n",
       "      <th>25%</th>\n",
       "      <td>138087.750000</td>\n",
       "      <td>214960.750000</td>\n",
       "    </tr>\n",
       "    <tr>\n",
       "      <th>50%</th>\n",
       "      <td>147444.000000</td>\n",
       "      <td>229986.500000</td>\n",
       "    </tr>\n",
       "    <tr>\n",
       "      <th>75%</th>\n",
       "      <td>157627.500000</td>\n",
       "      <td>250909.000000</td>\n",
       "    </tr>\n",
       "    <tr>\n",
       "      <th>max</th>\n",
       "      <td>178939.000000</td>\n",
       "      <td>276279.000000</td>\n",
       "    </tr>\n",
       "  </tbody>\n",
       "</table>\n",
       "</div>"
      ],
      "text/plain": [
       "       Sales_before_digital_add(in $)  Sales_After_digital_add(in $)\n",
       "count                       22.000000                      22.000000\n",
       "mean                    149239.954545                  231123.727273\n",
       "std                      14844.042921                   25556.777061\n",
       "min                     130263.000000                  187305.000000\n",
       "25%                     138087.750000                  214960.750000\n",
       "50%                     147444.000000                  229986.500000\n",
       "75%                     157627.500000                  250909.000000\n",
       "max                     178939.000000                  276279.000000"
      ]
     },
     "execution_count": 7,
     "metadata": {},
     "output_type": "execute_result"
    }
   ],
   "source": [
    "data.describe()\n",
    "##Checking the statistics of columns"
   ]
  },
  {
   "cell_type": "markdown",
   "id": "e0b3d8bc",
   "metadata": {},
   "source": [
    "It is clear from the mean values that there has been an increase in sales after the addition of digital marketing"
   ]
  },
  {
   "cell_type": "code",
   "execution_count": 8,
   "id": "02a37ff0",
   "metadata": {},
   "outputs": [
    {
     "data": {
      "text/plain": [
       "<AxesSubplot:>"
      ]
     },
     "execution_count": 8,
     "metadata": {},
     "output_type": "execute_result"
    },
    {
     "data": {
      "image/png": "[encoded data removed]",
      "text/plain": [
       "<Figure size 432x288 with 1 Axes>"
      ]
     },
     "metadata": {
      "needs_background": "light"
     },
     "output_type": "display_data"
    }
   ],
   "source": [
    "data['Region'].value_counts().plot.bar()\n",
    "##counts of different regions with sales data given plotted in a bar graph"
   ]
  },
  {
   "cell_type": "code",
   "execution_count": 9,
   "id": "5b555a50",
   "metadata": {},
   "outputs": [
    {
     "data": {
      "text/plain": [
       "<AxesSubplot:>"
      ]
     },
     "execution_count": 9,
     "metadata": {},
     "output_type": "execute_result"
    },
    {
     "data": {
      "image/png": "[encoded data removed]",
      "text/plain": [
       "<Figure size 432x288 with 1 Axes>"
      ]
     },
     "metadata": {
      "needs_background": "light"
     },
     "output_type": "display_data"
    }
   ],
   "source": [
    "data['Manager'].value_counts().plot.bar()\n",
    "##counts of the different managers with sales data given plotted in a bar graph"
   ]
  },
  {
   "cell_type": "markdown",
   "id": "6c297b0e",
   "metadata": {},
   "source": [
    "### Box plots for sales data variation"
   ]
  },
  {
   "cell_type": "code",
   "execution_count": 22,
   "id": "68f5d246",
   "metadata": {},
   "outputs": [
    {
     "data": {
      "text/plain": [
       "<AxesSubplot:xlabel='Sales_After_digital_add(in $)'>"
      ]
     },
     "execution_count": 22,
     "metadata": {},
     "output_type": "execute_result"
    },
    {
     "data": {
      "image/png": "[encoded data removed]",
      "text/plain": [
       "<Figure size 1008x1008 with 2 Axes>"
      ]
     },
     "metadata": {
      "needs_background": "light"
     },
     "output_type": "display_data"
    }
   ],
   "source": [
    "plt.figure(figsize=(14,14))\n",
    "plt.suptitle('Sales Data variation for Manager A')\n",
    "plt.subplot(3,3,1)\n",
    "sns.boxplot(data['Sales_before_digital_add(in $)'][data['Manager']=='Manager - A'])\n",
    "\n",
    "plt.subplot(3,3,2)\n",
    "sns.boxplot(data['Sales_After_digital_add(in $)'][data['Manager']=='Manager - A'])"
   ]
  },
  {
   "cell_type": "code",
   "execution_count": 23,
   "id": "fa263584",
   "metadata": {},
   "outputs": [
    {
     "data": {
      "text/plain": [
       "<AxesSubplot:xlabel='Sales_After_digital_add(in $)'>"
      ]
     },
     "execution_count": 23,
     "metadata": {},
     "output_type": "execute_result"
    },
    {
     "data": {
      "image/png": "[encoded data removed]",
      "text/plain": [
       "<Figure size 1008x1008 with 2 Axes>"
      ]
     },
     "metadata": {
      "needs_background": "light"
     },
     "output_type": "display_data"
    }
   ],
   "source": [
    "plt.figure(figsize=(14,14))\n",
    "plt.suptitle('Sales Data variation for Manager B')\n",
    "plt.subplot(3,3,1)\n",
    "sns.boxplot(data['Sales_before_digital_add(in $)'][data['Manager']=='Manager - B'])\n",
    "\n",
    "plt.subplot(3,3,2)\n",
    "sns.boxplot(data['Sales_After_digital_add(in $)'][data['Manager']=='Manager - B'])"
   ]
  },
  {
   "cell_type": "code",
   "execution_count": 24,
   "id": "db4a152a",
   "metadata": {},
   "outputs": [
    {
     "data": {
      "text/plain": [
       "<AxesSubplot:xlabel='Sales_After_digital_add(in $)'>"
      ]
     },
     "execution_count": 24,
     "metadata": {},
     "output_type": "execute_result"
    },
    {
     "data": {
      "image/png": "[encoded data removed]",
      "text/plain": [
       "<Figure size 1008x1008 with 2 Axes>"
      ]
     },
     "metadata": {
      "needs_background": "light"
     },
     "output_type": "display_data"
    }
   ],
   "source": [
    "plt.figure(figsize=(14,14))\n",
    "plt.suptitle('Sales Data variation for Manager C')\n",
    "plt.subplot(3,3,1)\n",
    "sns.boxplot(data['Sales_before_digital_add(in $)'][data['Manager']=='Manager - C'])\n",
    "\n",
    "plt.subplot(3,3,2)\n",
    "sns.boxplot(data['Sales_After_digital_add(in $)'][data['Manager']=='Manager - C'])"
   ]
  },
  {
   "cell_type": "markdown",
   "id": "be927efd",
   "metadata": {},
   "source": [
    "**It is clear from the box plots that all the managers had an increase in the sales after adding digital marketting**"
   ]
  },
  {
   "cell_type": "markdown",
   "id": "25b96b3e",
   "metadata": {},
   "source": [
    "# 1.The company wishes to clarify whether there is any increase in sales after stepping into digital marketing. "
   ]
  },
  {
   "cell_type": "markdown",
   "id": "af18ed62",
   "metadata": {},
   "source": [
    "It is already clear from the box plots that there is an increase in sales after stepping into digital marketting.\n",
    "Here we are using hypothesis testing to prove the same"
   ]
  },
  {
   "cell_type": "markdown",
   "id": "ae6e62bd",
   "metadata": {},
   "source": [
    "**H0 : There is no increase in sales after digital marketing**\n"
   ]
  },
  {
   "cell_type": "markdown",
   "id": "42745ce7",
   "metadata": {},
   "source": [
    "**H1 : There is an increase in sales after stepping into digital marketing**"
   ]
  },
  {
   "cell_type": "code",
   "execution_count": 25,
   "id": "0c7046b9",
   "metadata": {},
   "outputs": [
    {
     "name": "stdout",
     "output_type": "stream",
     "text": [
      "P value is 0.000000000063\n"
     ]
    }
   ],
   "source": [
    "from scipy import stats\n",
    "tvalue,pvalue=stats.ttest_rel(data['Sales_before_digital_add(in $)'],data['Sales_After_digital_add(in $)'])\n",
    "print('P value is %0.12f'%pvalue)"
   ]
  },
  {
   "cell_type": "markdown",
   "id": "4be544a4",
   "metadata": {},
   "source": [
    "**Here since the P value is <0.05 we can reject the null hypothesis and say there is an increase in sales with digital marketing**"
   ]
  },
  {
   "cell_type": "markdown",
   "id": "9d555380",
   "metadata": {},
   "source": [
    "# 2. The company needs to check whether there is any dependency between the features “Region” and “Manager”."
   ]
  },
  {
   "cell_type": "code",
   "execution_count": 26,
   "id": "bc71d8f5",
   "metadata": {},
   "outputs": [],
   "source": [
    "##Here we are using chi-squared test for independence to check for the dependency between region and manager"
   ]
  },
  {
   "cell_type": "markdown",
   "id": "f3f6b490",
   "metadata": {},
   "source": [
    "**H0 :There is no dependency between \"Region\" and \"Manager\"**"
   ]
  },
  {
   "cell_type": "markdown",
   "id": "b01a6d0e",
   "metadata": {},
   "source": [
    "**H1 :There is dependency between \"Region\" and \"Manager\"**"
   ]
  },
  {
   "cell_type": "code",
   "execution_count": 27,
   "id": "113863ba",
   "metadata": {},
   "outputs": [
    {
     "data": {
      "text/html": [
       "<div>\n",
       "<style scoped>\n",
       "    .dataframe tbody tr th:only-of-type {\n",
       "        vertical-align: middle;\n",
       "    }\n",
       "\n",
       "    .dataframe tbody tr th {\n",
       "        vertical-align: top;\n",
       "    }\n",
       "\n",
       "    .dataframe thead th {\n",
       "        text-align: right;\n",
       "    }\n",
       "</style>\n",
       "<table border=\"1\" class=\"dataframe\">\n",
       "  <thead>\n",
       "    <tr style=\"text-align: right;\">\n",
       "      <th>Manager</th>\n",
       "      <th>Manager - A</th>\n",
       "      <th>Manager - B</th>\n",
       "      <th>Manager - C</th>\n",
       "    </tr>\n",
       "    <tr>\n",
       "      <th>Region</th>\n",
       "      <th></th>\n",
       "      <th></th>\n",
       "      <th></th>\n",
       "    </tr>\n",
       "  </thead>\n",
       "  <tbody>\n",
       "    <tr>\n",
       "      <th>Region - A</th>\n",
       "      <td>4</td>\n",
       "      <td>3</td>\n",
       "      <td>3</td>\n",
       "    </tr>\n",
       "    <tr>\n",
       "      <th>Region - B</th>\n",
       "      <td>4</td>\n",
       "      <td>1</td>\n",
       "      <td>2</td>\n",
       "    </tr>\n",
       "    <tr>\n",
       "      <th>Region - C</th>\n",
       "      <td>1</td>\n",
       "      <td>3</td>\n",
       "      <td>1</td>\n",
       "    </tr>\n",
       "  </tbody>\n",
       "</table>\n",
       "</div>"
      ],
      "text/plain": [
       "Manager     Manager - A  Manager - B  Manager - C\n",
       "Region                                           \n",
       "Region - A            4            3            3\n",
       "Region - B            4            1            2\n",
       "Region - C            1            3            1"
      ]
     },
     "execution_count": 27,
     "metadata": {},
     "output_type": "execute_result"
    }
   ],
   "source": [
    "##Here inorder to get a contingency table of region and manager features we are using the crosstab() function.\n",
    "cont_tab=pd.crosstab(data['Region'],data['Manager'])\n",
    "cont_tab\n"
   ]
  },
  {
   "cell_type": "code",
   "execution_count": 32,
   "id": "91c700ce",
   "metadata": {},
   "outputs": [
    {
     "name": "stdout",
     "output_type": "stream",
     "text": [
      "Test statistic is: 3.050566893424036\n",
      "P value = 0.5493991051158094\n",
      "Degree of freedom = 4\n",
      "Expected values: [[4.09090909 3.18181818 2.72727273]\n",
      " [2.86363636 2.22727273 1.90909091]\n",
      " [2.04545455 1.59090909 1.36363636]]\n"
     ]
    }
   ],
   "source": [
    "stat,p_value,dof,exp=stats.chi2_contingency(cont_tab)\n",
    "## getting the test statistic,pvalue,degree of freedom value and expected values\n",
    "\n",
    "print('Test statistic is:',stat)\n",
    "print('P value =',p_value)\n",
    "print('Degree of freedom =',dof)\n",
    "print('Expected values:',exp)"
   ]
  },
  {
   "cell_type": "markdown",
   "id": "8de80c31",
   "metadata": {},
   "source": [
    "**Here since the p value is >0.05, the null hypothesis is considered and we could say that there is no dependency between the features \"Region\" and \"Manager\"**"
   ]
  },
  {
   "cell_type": "code",
   "execution_count": null,
   "id": "34e63dd0",
   "metadata": {},
   "outputs": [],
   "source": []
  }
 ],
 "metadata": {
  "kernelspec": {
   "display_name": "Python 3",
   "language": "python",
   "name": "python3"
  },
  "language_info": {
   "codemirror_mode": {
    "name": "ipython",
    "version": 3
   },
   "file_extension": ".py",
   "mimetype": "text/x-python",
   "name": "python",
   "nbconvert_exporter": "python",
   "pygments_lexer": "ipython3",
   "version": "3.8.8"
  }
 },
 "nbformat": 4,
 "nbformat_minor": 5
}
